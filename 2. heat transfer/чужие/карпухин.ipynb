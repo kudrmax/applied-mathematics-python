{
 "cells": [
  {
   "cell_type": "code",
   "execution_count": 1,
   "id": "84b810e1-ea5b-4203-bcf9-b72b3916222a",
   "metadata": {},
   "outputs": [],
   "source": [
    "import numpy as np\n",
    "import matplotlib.pyplot as plt\n",
    "from numba import prange, njit\n",
    "from tqdm import trange"
   ]
  },
  {
   "cell_type": "code",
   "execution_count": 2,
   "id": "7cea9c64-fa96-48b9-97b3-9d366066516c",
   "metadata": {},
   "outputs": [],
   "source": [
    "total_time = 600\n",
    "nx = 30\n",
    "R1 = 5*nx//60\n",
    "R2 = 10*nx//60\n",
    "dx = 1.0\n",
    "D1 = 1.\n",
    "D2 = 0.01\n",
    "C = 0.1\n",
    "p1=100\n",
    "p2=100\n",
    "th1 = 43\n",
    "th2 = 77\n",
    "points = np.array([(20*nx//60, 20*nx//60),(20*nx//60,40*nx//60),(40*nx//60,20*nx//60),(40*nx//60,40*nx//60)])\n",
    "q0 = lambda t: 0\n",
    "q1 = lambda t: p1 * (np.sin(2*t*np.pi/th1) + 1)\n",
    "q2 = lambda t: p2 * (np.sin(2*t*np.pi/th2) + 1)"
   ]
  },
  {
   "cell_type": "code",
   "execution_count": 3,
   "id": "ad35f42e-9c78-4356-b966-ffc004b03d42",
   "metadata": {},
   "outputs": [
    {
     "data": {
      "text/plain": [
       "<matplotlib.colorbar.Colorbar at 0x262afba65f0>"
      ]
     },
     "execution_count": 3,
     "metadata": {},
     "output_type": "execute_result"
    },
    {
     "data": {
      "image/png": "[encoded data removed]",
      "text/plain": [
       "<Figure size 432x288 with 2 Axes>"
      ]
     },
     "metadata": {
      "needs_background": "light"
     },
     "output_type": "display_data"
    }
   ],
   "source": [
    "dt = C * dx**2 / D1\n",
    "it = int(total_time/dt)+1\n",
    "D = np.full((nx,nx), D1)\n",
    "for i in range(nx):\n",
    "    for j in range(nx):\n",
    "        if R1**2 <= (nx//2 - i*dx)**2 + (nx//2 - j*dx)**2 <= R2**2 :\n",
    "            D[i,j] = D2\n",
    "plt.pcolormesh(D)\n",
    "plt.colorbar()"
   ]
  },
  {
   "cell_type": "code",
   "execution_count": 4,
   "id": "f11a1c8f-83bd-4621-b8eb-b4d11e05a272",
   "metadata": {},
   "outputs": [
    {
     "data": {
      "text/plain": [
       "<matplotlib.colorbar.Colorbar at 0x262b1d0ebc0>"
      ]
     },
     "execution_count": 4,
     "metadata": {},
     "output_type": "execute_result"
    },
    {
     "data": {
      "image/png": "[encoded data removed]",
      "text/plain": [
       "<Figure size 432x288 with 2 Axes>"
      ]
     },
     "metadata": {
      "needs_background": "light"
     },
     "output_type": "display_data"
    }
   ],
   "source": [
    "H = np.zeros((nx,nx))\n",
    "heat1_x1, heat1_x2 = (20*nx)//60, (40*nx)//60\n",
    "heat1_y1, heat1_y2 = (5*nx)//60, (10*nx)//60\n",
    "heat2_y1, heat2_y2 = heat1_x1, heat1_x2\n",
    "heat2_x1, heat2_x2 = heat1_y1, heat1_y2\n",
    "\n",
    "H[heat1_y1:heat1_y2, heat1_x1:heat1_x2] = 1\n",
    "H[heat2_y1:heat2_y2, heat2_x1:heat2_x2] = 2\n",
    "\n",
    "plt.pcolormesh(H)\n",
    "plt.colorbar()"
   ]
  },
  {
   "cell_type": "code",
   "execution_count": 20,
   "id": "ff1d3d4b-ecad-4d87-b0b8-dea40e2c0aef",
   "metadata": {},
   "outputs": [],
   "source": [
    "T = np.zeros((2, nx, nx))\n",
    "\n",
    "# граничные условия\n",
    "T[:, :, 0] = 0.0\n",
    "T[:, :, -1] = 0.0\n",
    "T[:, 0, :] = 0.0\n",
    "T[:, -1, :] = 0.0"
   ]
  },
  {
   "cell_type": "code",
   "execution_count": 6,
   "id": "9555f1d3-b612-421d-b8af-559ffde70a9f",
   "metadata": {},
   "outputs": [],
   "source": [
    "def add_heat(T: np. ndarray, \n",
    "                x1: int,\n",
    "                x2: int,\n",
    "                y1: int,\n",
    "                y2: int,\n",
    "                it: int,\n",
    "                dt: float, q): # q - heat function\n",
    "    T[:, y1:y2, x1:x2] += q(dt*it) * dt"
   ]
  },
  {
   "cell_type": "code",
   "execution_count": 7,
   "id": "e2f55e6d-d06c-4dd8-bda0-f9bbac24650d",
   "metadata": {},
   "outputs": [],
   "source": [
    "def diffuse_step(\n",
    "    it: int,\n",
    "    T: np.ndarray,\n",
    "    dx: float,\n",
    "    dt: float,\n",
    "    D: np.ndarray,\n",
    "    H: np.ndarray,\n",
    "    points: np.array\n",
    "):\n",
    "    prev = it % 2\n",
    "    cur  = prev - 1\n",
    "    alpha = dt / dx**2\n",
    "    \n",
    "    T[cur, 1:-1, 1:-1] = T[prev, 1:-1, 1:-1] + alpha * D[1:-1, 1:-1] * (\n",
    "        T[prev, 1:-1, 0:-2] + \n",
    "        T[prev, 1:-1, 2:  ] + \n",
    "        T[prev, 0:-2, 1:-1] + \n",
    "        T[prev, 2:,   1:-1] -\n",
    "        4 * T[prev, 1:-1, 1:-1]\n",
    "    )\n",
    "            \n",
    "    for i in range(4):\n",
    "        records[i][it] = T[cur,points[i][0],points[i][1]]"
   ]
  },
  {
   "cell_type": "code",
   "execution_count": 8,
   "id": "33df71b4-05be-4cab-89c5-63cf5d9ca2d8",
   "metadata": {},
   "outputs": [
    {
     "data": {
      "text/plain": [
       "<matplotlib.colorbar.Colorbar at 0x262b1de1f00>"
      ]
     },
     "execution_count": 8,
     "metadata": {},
     "output_type": "execute_result"
    },
    {
     "data": {
      "image/png": "[encoded data removed]",
      "text/plain": [
       "<Figure size 432x288 with 2 Axes>"
      ]
     },
     "metadata": {
      "needs_background": "light"
     },
     "output_type": "display_data"
    }
   ],
   "source": [
    "plt.pcolormesh(T[0])\n",
    "plt.colorbar()"
   ]
  },
  {
   "cell_type": "code",
   "execution_count": 18,
   "id": "f45c8c33-9484-40c1-ab1b-5363ba855c8c",
   "metadata": {
    "tags": []
   },
   "outputs": [
    {
     "name": "stderr",
     "output_type": "stream",
     "text": [
      "100%|████████████████████████████████████████████████████████████████████████████| 6001/6001 [00:00<00:00, 9336.75it/s]\n"
     ]
    }
   ],
   "source": [
    "records = np.zeros((4,it))\n",
    "for i in trange(it):\n",
    "    diffuse_step(i, T, dx, dt, D, H, points)\n",
    "    add_heat(T,heat1_x1,heat1_x2,heat1_y1,heat1_y2, dt, it, q1)\n",
    "    add_heat(T,heat2_x1,heat2_x2,heat2_y1,heat2_y2, dt, it, q2)"
   ]
  },
  {
   "cell_type": "code",
   "execution_count": 19,
   "id": "bdd6f0cf-95be-4f62-9b16-28d7631ff700",
   "metadata": {},
   "outputs": [
    {
     "data": {
      "text/plain": [
       "<matplotlib.colorbar.Colorbar at 0x262b30820b0>"
      ]
     },
     "execution_count": 19,
     "metadata": {},
     "output_type": "execute_result"
    },
    {
     "data": {
      "image/png": "[encoded data removed]",
      "text/plain": [
       "<Figure size 432x288 with 2 Axes>"
      ]
     },
     "metadata": {
      "needs_background": "light"
     },
     "output_type": "display_data"
    }
   ],
   "source": [
    "np.savetxt(\"mesh.txt\", T[0])\n",
    "np.savetxt(\"records.txt\", records)\n",
    "plt.pcolormesh(T[0])\n",
    "plt.colorbar()"
   ]
  },
  {
   "cell_type": "code",
   "execution_count": 11,
   "id": "9c5e8f3a-5bde-4ee7-8a0d-86cee8e75518",
   "metadata": {},
   "outputs": [
    {
     "data": {
      "text/plain": [
       "<function matplotlib.pyplot.show(close=None, block=None)>"
      ]
     },
     "execution_count": 11,
     "metadata": {},
     "output_type": "execute_result"
    },
    {
     "data": {
      "image/png": "[encoded data removed]",
      "text/plain": [
       "<Figure size 432x288 with 1 Axes>"
      ]
     },
     "metadata": {
      "needs_background": "light"
     },
     "output_type": "display_data"
    }
   ],
   "source": [
    "plt.plot(records[0])\n",
    "plt.plot(records[1])\n",
    "plt.plot(records[2])\n",
    "plt.plot(records[3])\n",
    "plt.show"
   ]
  },
  {
   "cell_type": "code",
   "execution_count": 12,
   "id": "22e4cc1c-f5e8-4159-b165-aedb9e76c847",
   "metadata": {},
   "outputs": [
    {
     "name": "stdout",
     "output_type": "stream",
     "text": [
      "[[10 10 10 10 10 10 10 10 10 10]\n",
      " [10 10 10 10 10 10 10 10 10 10]\n",
      " [10 10 10 10 10 10 10 10 10 10]\n",
      " [10 10 10 10 10 10 10 10 10 10]\n",
      " [10 10 10 10 10 10 10 10 10 10]\n",
      " [10 10 10 10 10 10 10 10 10 10]\n",
      " [10 10 10 10 10 10 10 10 10 10]\n",
      " [10 10 10 10 10 10 10 10 10 10]\n",
      " [10 10 10 10 10 10 10 10 10 10]\n",
      " [10 10 10 10 10 10 10 10 10 10]]\n"
     ]
    },
    {
     "data": {
      "text/plain": [
       "array([[ 0, 10, 10, 10, 10, 10, 10, 10,  0, 10],\n",
       "       [ 0, 10, 10, 10, 10, 10, 10, 10,  0, 10],\n",
       "       [ 0, 10, 10, 10, 10, 10, 10, 10,  0, 10],\n",
       "       [ 0, 10, 10, 10, 10, 10, 10, 10,  0, 10],\n",
       "       [ 0, 10, 10, 10, 10, 10, 10, 10,  0, 10],\n",
       "       [ 0, 10, 10, 10, 10, 10, 10, 10,  0, 10],\n",
       "       [ 0, 10, 10, 10, 10, 10, 10, 10,  0, 10],\n",
       "       [ 0, 10, 10, 10, 10, 10, 10, 10,  0, 10],\n",
       "       [ 0, 10, 10, 10, 10, 10, 10, 10,  0, 10],\n",
       "       [ 0, 10, 10, 10, 10, 10, 10, 10,  0, 10]])"
      ]
     },
     "execution_count": 12,
     "metadata": {},
     "output_type": "execute_result"
    }
   ],
   "source": [
    "H = np.full((10,10), 10)\n",
    "print(H)\n",
    "H[:,[0,-2]] = 0\n",
    "H"
   ]
  },
  {
   "cell_type": "code",
   "execution_count": 13,
   "id": "bc743b06-4b9b-4f75-8775-cdd3790c2d48",
   "metadata": {},
   "outputs": [
    {
     "data": {
      "text/plain": [
       "array([3, 1])"
      ]
     },
     "execution_count": 13,
     "metadata": {},
     "output_type": "execute_result"
    }
   ],
   "source": [
    "a = np.array([[3,0],[0,1]])\n",
    "v = np.array([1,1])\n",
    "np.dot(a,v)"
   ]
  },
  {
   "cell_type": "code",
   "execution_count": null,
   "id": "90c48a66-9d19-4407-b148-4b750925532d",
   "metadata": {},
   "outputs": [],
   "source": []
  }
 ],
 "metadata": {
  "kernelspec": {
   "display_name": "Python 3 (ipykernel)",
   "language": "python",
   "name": "python3"
  },
  "language_info": {
   "codemirror_mode": {
    "name": "ipython",
    "version": 3
   },
   "file_extension": ".py",
   "mimetype": "text/x-python",
   "name": "python",
   "nbconvert_exporter": "python",
   "pygments_lexer": "ipython3",
   "version": "3.10.6"
  }
 },
 "nbformat": 4,
 "nbformat_minor": 5
}
