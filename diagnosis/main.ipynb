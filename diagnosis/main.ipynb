{
 "cells": [
  {
   "cell_type": "code",
   "execution_count": 99,
   "metadata": {
    "collapsed": true
   },
   "outputs": [],
   "source": [
    "def read_input(file_str: str):\n",
    "    with open(file_str) as f:\n",
    "\n",
    "        lines = f.readlines()\n",
    "        lines.reverse()\n",
    "\n",
    "        n = int(lines.pop().split()[0])\n",
    "        relationships = [int(s) for s in lines.pop().split(' ')]\n",
    "        values = [int(s) for s in lines.pop().split(' ')]\n",
    "\n",
    "        diseases = []\n",
    "        num_of_diseases = int(lines.pop().split()[0])\n",
    "        for i in range(num_of_diseases):\n",
    "            dis = lines.pop()\n",
    "            diseases.append([int(s) for s in dis.split(' ')])\n",
    "\n",
    "        patients = []\n",
    "        num_of_patients = int(lines.pop().split()[0])\n",
    "        for i in range(num_of_patients):\n",
    "            dis = lines.pop()\n",
    "            patients.append([int(s) for s in dis.split(' ')])\n",
    "\n",
    "        # return [n, relationships, values, diseases, patients]\n",
    "        return {\n",
    "            \"n\": n,\n",
    "            \"relationships\": relationships,\n",
    "            \"values\": values,\n",
    "            \"diseases\": diseases,\n",
    "            \"patients\": patients,\n",
    "        }"
   ]
  },
  {
   "cell_type": "code",
   "execution_count": 100,
   "outputs": [
    {
     "name": "stdout",
     "output_type": "stream",
     "text": [
      "{'n': 10, 'relationships': [1, 1, 3, 3, 4, 4, 5, 5, 5], 'values': [5, 7, 8, 13, 18, 14, 15, 21, 20, 29], 'diseases': [[2, 4, 2], [1, 10]], 'patients': [[3, 5, 9, 8], [1, 6], [2, 7, 10], [1, 10]]}\n"
     ]
    }
   ],
   "source": [
    "data = read_input('input.txt')\n",
    "n = data[\"n\"]\n",
    "relationships = data[\"relationships\"]\n",
    "values = data[\"values\"]\n",
    "diseases = data[\"diseases\"]\n",
    "patients = data[\"patients\"]\n",
    "print(data)"
   ],
   "metadata": {
    "collapsed": false
   }
  },
  {
   "cell_type": "code",
   "execution_count": null,
   "outputs": [],
   "source": [],
   "metadata": {
    "collapsed": false
   }
  }
 ],
 "metadata": {
  "kernelspec": {
   "display_name": "Python 3",
   "language": "python",
   "name": "python3"
  },
  "language_info": {
   "codemirror_mode": {
    "name": "ipython",
    "version": 2
   },
   "file_extension": ".py",
   "mimetype": "text/x-python",
   "name": "python",
   "nbconvert_exporter": "python",
   "pygments_lexer": "ipython2",
   "version": "2.7.6"
  }
 },
 "nbformat": 4,
 "nbformat_minor": 0
}
