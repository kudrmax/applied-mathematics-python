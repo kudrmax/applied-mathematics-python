{
 "cells": [
  {
   "cell_type": "code",
   "execution_count": 186,
   "metadata": {
    "collapsed": true
   },
   "outputs": [],
   "source": [
    "# считываение из файла\n",
    "def read_input(file_str: str):\n",
    "    with open(file_str) as f:\n",
    "\n",
    "        lines = f.readlines()\n",
    "        lines.reverse()\n",
    "\n",
    "        n = int(lines.pop().split()[0])\n",
    "        parents = [int(s) for s in lines.pop().split(' ')]\n",
    "        values = [int(s) for s in lines.pop().split(' ')]\n",
    "\n",
    "        diseases = []\n",
    "        num_of_diseases = int(lines.pop().split()[0])\n",
    "        for i in range(num_of_diseases):\n",
    "            dis = lines.pop()\n",
    "            diseases.append([int(s) for s in dis.split(' ')])\n",
    "\n",
    "        patients = []\n",
    "        num_of_patients = int(lines.pop().split()[0])\n",
    "        for i in range(num_of_patients):\n",
    "            dis = lines.pop()\n",
    "            patients.append([int(s) for s in dis.split(' ')])\n",
    "\n",
    "        # return [n, relationships, values, diseases, patients]\n",
    "        return {\n",
    "            \"n\": n,\n",
    "            \"parents\": parents,\n",
    "            \"values\": values,\n",
    "            \"diseases\": diseases,\n",
    "            \"patients\": patients,\n",
    "        }\n",
    "\n",
    "data = read_input('input.txt')\n",
    "n = data[\"n\"]\n",
    "parents = data[\"parents\"]\n",
    "values = data[\"values\"]\n",
    "diseases = data[\"diseases\"]\n",
    "patients = data[\"patients\"]"
   ]
  },
  {
   "cell_type": "code",
   "execution_count": 187,
   "outputs": [
    {
     "name": "stdout",
     "output_type": "stream",
     "text": [
      "defaultdict(<class 'int'>, {2: 1, 3: 1, 4: 3, 5: 3, 6: 4, 7: 4, 8: 5, 9: 5, 10: 5})\n",
      "defaultdict(<class 'list'>, {1: [2, 3], 3: [4, 5], 4: [6, 7], 5: [8, 9, 10]})\n",
      "defaultdict(<class 'int'>, {1: 5, 2: 7, 3: 8, 4: 13, 5: 18, 6: 14, 7: 15, 8: 21, 9: 20, 10: 29})\n",
      "defaultdict(<class 'bool'>, {1: False, 2: False, 3: False, 4: False, 5: False, 6: False, 7: False, 8: False, 9: False, 10: False})\n"
     ]
    }
   ],
   "source": [
    "from collections import defaultdict\n",
    "\n",
    "parents_hmap = defaultdict(int)  # child: parent\n",
    "children_hmap = defaultdict(list)  # parent: [children]\n",
    "values_hmap = defaultdict(int)  # node: value\n",
    "is_checked_hmap = defaultdict(bool)  # node: value\n",
    "\n",
    "values_hmap[1] = values[0]\n",
    "is_checked_hmap[1] = False\n",
    "for i in range(len(parents)):\n",
    "    child_index = i + 2\n",
    "    parent_index = parents[i]\n",
    "\n",
    "    parents_hmap[child_index] = parent_index\n",
    "    children_hmap[parent_index].append(child_index)\n",
    "    values_hmap[child_index] = values[i + 1]\n",
    "    is_checked_hmap[child_index] = False\n",
    "\n",
    "print(parents_hmap)\n",
    "print(children_hmap)\n",
    "print(values_hmap)\n",
    "print(is_checked_hmap)"
   ],
   "metadata": {
    "collapsed": false
   }
  },
  {
   "cell_type": "code",
   "execution_count": 189,
   "outputs": [
    {
     "name": "stdout",
     "output_type": "stream",
     "text": [
      "defaultdict(<class 'list'>, {1: [2, 6, 7, 4, 8, 9, 10, 5, 3, 1], 4: [6, 7, 4], 3: [6, 7, 4, 8, 9, 10, 5, 3], 5: [8, 9, 10, 5]})\n"
     ]
    }
   ],
   "source": [
    "subtrree_hmap = defaultdict(list)  # parent: [all children in subtree]\n",
    "\n",
    "def fill_subtrees(cur):\n",
    "    children = children_hmap[cur]\n",
    "\n",
    "    if len(children) == 0:\n",
    "        return [cur]\n",
    "\n",
    "    for child in children:\n",
    "        for el in fill_subtrees(child):\n",
    "            subtrree_hmap[cur].append(el)\n",
    "    subtrree_hmap[cur].append(cur)\n",
    "    return subtrree_hmap[cur]\n",
    "\n",
    "fill_subtrees(1)\n",
    "print(subtrree_hmap)"
   ],
   "metadata": {
    "collapsed": false
   }
  },
  {
   "cell_type": "code",
   "execution_count": null,
   "outputs": [],
   "source": [],
   "metadata": {
    "collapsed": false
   }
  }
 ],
 "metadata": {
  "kernelspec": {
   "display_name": "Python 3",
   "language": "python",
   "name": "python3"
  },
  "language_info": {
   "codemirror_mode": {
    "name": "ipython",
    "version": 2
   },
   "file_extension": ".py",
   "mimetype": "text/x-python",
   "name": "python",
   "nbconvert_exporter": "python",
   "pygments_lexer": "ipython2",
   "version": "2.7.6"
  }
 },
 "nbformat": 4,
 "nbformat_minor": 0
}
