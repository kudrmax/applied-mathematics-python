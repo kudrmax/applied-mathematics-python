{
 "cells": [
  {
   "cell_type": "code",
   "execution_count": 122,
   "metadata": {
    "collapsed": true
   },
   "outputs": [],
   "source": [
    "def read_input(file_str: str):\n",
    "    with open(file_str) as f:\n",
    "\n",
    "        lines = f.readlines()\n",
    "        lines.reverse()\n",
    "\n",
    "        n = int(lines.pop().split()[0])\n",
    "        parents = [int(s) for s in lines.pop().split(' ')]\n",
    "        values = [int(s) for s in lines.pop().split(' ')]\n",
    "\n",
    "        diseases = []\n",
    "        num_of_diseases = int(lines.pop().split()[0])\n",
    "        for i in range(num_of_diseases):\n",
    "            dis = lines.pop()\n",
    "            diseases.append([int(s) for s in dis.split(' ')])\n",
    "\n",
    "        patients = []\n",
    "        num_of_patients = int(lines.pop().split()[0])\n",
    "        for i in range(num_of_patients):\n",
    "            dis = lines.pop()\n",
    "            patients.append([int(s) for s in dis.split(' ')])\n",
    "\n",
    "        # return [n, relationships, values, diseases, patients]\n",
    "        return {\n",
    "            \"n\": n,\n",
    "            \"parents\": parents,\n",
    "            \"values\": values,\n",
    "            \"diseases\": diseases,\n",
    "            \"patients\": patients,\n",
    "        }"
   ]
  },
  {
   "cell_type": "code",
   "execution_count": 123,
   "outputs": [
    {
     "name": "stdout",
     "output_type": "stream",
     "text": [
      "10\n",
      "[1, 1, 3, 3, 4, 4, 5, 5, 5]\n",
      "[5, 7, 8, 13, 18, 14, 15, 21, 20, 29]\n",
      "[[2, 4, 2], [1, 10]]\n",
      "[[3, 5, 9, 8], [1, 6], [2, 7, 10], [1, 10]]\n"
     ]
    }
   ],
   "source": [
    "data = read_input('input.txt')\n",
    "n = data[\"n\"]\n",
    "parents = data[\"parents\"]\n",
    "values = data[\"values\"]\n",
    "diseases = data[\"diseases\"]\n",
    "patients = data[\"patients\"]\n",
    "print(n)\n",
    "print(parents)\n",
    "print(values)\n",
    "print(diseases)\n",
    "print(patients)"
   ],
   "metadata": {
    "collapsed": false
   }
  },
  {
   "cell_type": "code",
   "execution_count": 105,
   "outputs": [],
   "source": [
    "class Node(object):\n",
    "    def __init__(self, index, value):\n",
    "        self.index = index\n",
    "        self.value = value\n",
    "        self.children = []\n",
    "        self.parent = None\n",
    "        self.subtree = []\n",
    "\n",
    "    def add_child(self, index):\n",
    "        self.children.append(index)\n",
    "\n",
    "    def add_parent(self, index):\n",
    "        self.parent = index\n",
    "\n",
    "    def init_subtree(self, subtree_list: list):\n",
    "        self.subtree = subtree_list"
   ],
   "metadata": {
    "collapsed": false
   }
  },
  {
   "cell_type": "code",
   "execution_count": null,
   "outputs": [],
   "source": [
    "for i in range(n):\n",
    "    node = Node(i, values[i])\n",
    "    if i != 0:\n",
    "        node.add_parent(parents[i])"
   ],
   "metadata": {
    "collapsed": false
   }
  },
  {
   "cell_type": "code",
   "execution_count": 142,
   "outputs": [
    {
     "ename": "NameError",
     "evalue": "name 'Fal' is not defined",
     "output_type": "error",
     "traceback": [
      "\u001B[0;31m---------------------------------------------------------------------------\u001B[0m",
      "\u001B[0;31mNameError\u001B[0m                                 Traceback (most recent call last)",
      "Cell \u001B[0;32mIn[142], line 16\u001B[0m\n\u001B[1;32m     14\u001B[0m     children_hmap[parent_index]\u001B[38;5;241m.\u001B[39mappend(child_index)\n\u001B[1;32m     15\u001B[0m     values_hmap[i] \u001B[38;5;241m=\u001B[39m values[i]\n\u001B[0;32m---> 16\u001B[0m     is_checked_hmap[i] \u001B[38;5;241m=\u001B[39m \u001B[43mFal\u001B[49m;\n\u001B[1;32m     18\u001B[0m values_hmap[n \u001B[38;5;241m-\u001B[39m \u001B[38;5;241m1\u001B[39m] \u001B[38;5;241m=\u001B[39m values[n \u001B[38;5;241m-\u001B[39m \u001B[38;5;241m1\u001B[39m]\n\u001B[1;32m     20\u001B[0m \u001B[38;5;28mprint\u001B[39m(parents_hmap)\n",
      "\u001B[0;31mNameError\u001B[0m: name 'Fal' is not defined"
     ]
    }
   ],
   "source": [
    "from collections import defaultdict\n",
    "\n",
    "parents_hmap = defaultdict(int)  # child: parent\n",
    "children_hmap = defaultdict(list)  # parent: [children]\n",
    "values_hmap = defaultdict(int)  # node: value\n",
    "is_checked_hmap = defaultdict(bool)  # node: value\n",
    "subtrree_hmap = defaultdict(list)  # parent: [all children in subtree]\n",
    "\n",
    "for i in range(len(parents)):\n",
    "    child_index = i + 2\n",
    "    parent_index = parents[i]\n",
    "\n",
    "    parents_hmap[child_index] = parent_index\n",
    "    children_hmap[parent_index].append(child_index)\n",
    "    values_hmap[i] = values[i]\n",
    "    is_checked_hmap[i] = False\n",
    "\n",
    "values_hmap[n - 1] = values[n - 1]\n",
    "\n",
    "print(parents_hmap)\n",
    "print(children_hmap)\n",
    "print(values_hmap)"
   ],
   "metadata": {
    "collapsed": false
   }
  }
 ],
 "metadata": {
  "kernelspec": {
   "display_name": "Python 3",
   "language": "python",
   "name": "python3"
  },
  "language_info": {
   "codemirror_mode": {
    "name": "ipython",
    "version": 2
   },
   "file_extension": ".py",
   "mimetype": "text/x-python",
   "name": "python",
   "nbconvert_exporter": "python",
   "pygments_lexer": "ipython2",
   "version": "2.7.6"
  }
 },
 "nbformat": 4,
 "nbformat_minor": 0
}
