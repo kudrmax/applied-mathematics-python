{
 "cells": [
  {
   "cell_type": "code",
   "execution_count": 186,
   "metadata": {
    "collapsed": true
   },
   "outputs": [],
   "source": [
    "# считываение из файла\n",
    "def read_input(file_str: str):\n",
    "    with open(file_str) as f:\n",
    "\n",
    "        lines = f.readlines()\n",
    "        lines.reverse()\n",
    "\n",
    "        n = int(lines.pop().split()[0])\n",
    "        parents = [int(s) for s in lines.pop().split(' ')]\n",
    "        values = [int(s) for s in lines.pop().split(' ')]\n",
    "\n",
    "        diseases = []\n",
    "        num_of_diseases = int(lines.pop().split()[0])\n",
    "        for i in range(num_of_diseases):\n",
    "            dis = lines.pop()\n",
    "            diseases.append([int(s) for s in dis.split(' ')])\n",
    "\n",
    "        patients = []\n",
    "        num_of_patients = int(lines.pop().split()[0])\n",
    "        for i in range(num_of_patients):\n",
    "            dis = lines.pop()\n",
    "            patients.append([int(s) for s in dis.split(' ')])\n",
    "\n",
    "        # return [n, relationships, values, diseases, patients]\n",
    "        return {\n",
    "            \"n\": n,\n",
    "            \"parents\": parents,\n",
    "            \"values\": values,\n",
    "            \"diseases\": diseases,\n",
    "            \"patients\": patients,\n",
    "        }\n",
    "\n",
    "data = read_input('input.txt')\n",
    "n = data[\"n\"]\n",
    "parents = data[\"parents\"]\n",
    "values = data[\"values\"]\n",
    "diseases = data[\"diseases\"]\n",
    "patients = data[\"patients\"]"
   ]
  },
  {
   "cell_type": "code",
   "execution_count": 187,
   "outputs": [
    {
     "name": "stdout",
     "output_type": "stream",
     "text": [
      "defaultdict(<class 'int'>, {2: 1, 3: 1, 4: 3, 5: 3, 6: 4, 7: 4, 8: 5, 9: 5, 10: 5})\n",
      "defaultdict(<class 'list'>, {1: [2, 3], 3: [4, 5], 4: [6, 7], 5: [8, 9, 10]})\n",
      "defaultdict(<class 'int'>, {1: 5, 2: 7, 3: 8, 4: 13, 5: 18, 6: 14, 7: 15, 8: 21, 9: 20, 10: 29})\n",
      "defaultdict(<class 'bool'>, {1: False, 2: False, 3: False, 4: False, 5: False, 6: False, 7: False, 8: False, 9: False, 10: False})\n"
     ]
    }
   ],
   "source": [
    "from collections import defaultdict\n",
    "\n",
    "parents_hmap = defaultdict(int)  # child: parent\n",
    "children_hmap = defaultdict(list)  # parent: [children]\n",
    "values_hmap = defaultdict(int)  # node: value\n",
    "is_checked_hmap = defaultdict(bool)  # node: value\n",
    "\n",
    "values_hmap[1] = values[0]\n",
    "is_checked_hmap[1] = False\n",
    "for i in range(len(parents)):\n",
    "    child_index = i + 2\n",
    "    parent_index = parents[i]\n",
    "\n",
    "    parents_hmap[child_index] = parent_index\n",
    "    children_hmap[parent_index].append(child_index)\n",
    "    values_hmap[child_index] = values[i + 1]\n",
    "    is_checked_hmap[child_index] = False\n",
    "\n",
    "print(parents_hmap)\n",
    "print(children_hmap)\n",
    "print(values_hmap)\n",
    "print(is_checked_hmap)"
   ],
   "metadata": {
    "collapsed": false
   }
  },
  {
   "cell_type": "code",
   "execution_count": 209,
   "outputs": [
    {
     "name": "stdout",
     "output_type": "stream",
     "text": [
      "defaultdict(<class 'list'>, {1: [1, 2, 3, 4, 6, 7, 5, 8, 9, 10], 2: [2], 3: [3, 4, 6, 7, 5, 8, 9, 10], 4: [4, 6, 7], 6: [6], 7: [7], 5: [5, 8, 9, 10], 8: [8], 9: [9], 10: [10]})\n"
     ]
    }
   ],
   "source": [
    "subtree_hmap = defaultdict(list)  # parent: [all children in subtree]\n",
    "\n",
    "def fill_subtrees(cur):\n",
    "    children = children_hmap[cur]\n",
    "    subtree_hmap[cur].append(cur)\n",
    "    if len(children) == 0:\n",
    "        return [cur]\n",
    "\n",
    "    for child in children:\n",
    "        for el in fill_subtrees(child):\n",
    "            subtree_hmap[cur].append(el)\n",
    "    return subtree_hmap[cur]\n",
    "\n",
    "fill_subtrees(1)\n",
    "print(subtree_hmap)"
   ],
   "metadata": {
    "collapsed": false
   }
  },
  {
   "cell_type": "code",
   "execution_count": 210,
   "outputs": [
    {
     "name": "stdout",
     "output_type": "stream",
     "text": [
      "defaultdict(None, {(2, 3): 5, (3, 2): 5, (2, 4): 5, (4, 2): 5, (2, 6): 5, (6, 2): 5, (2, 7): 5, (7, 2): 5, (2, 5): 5, (5, 2): 5, (2, 8): 5, (8, 2): 5, (2, 9): 5, (9, 2): 5, (2, 10): 5, (10, 2): 5, (1, 1): 5, (1, 2): 5, (2, 1): 5, (1, 3): 5, (3, 1): 5, (1, 4): 5, (4, 1): 5, (1, 6): 5, (6, 1): 5, (1, 7): 5, (7, 1): 5, (1, 5): 5, (5, 1): 5, (1, 8): 5, (8, 1): 5, (1, 9): 5, (9, 1): 5, (1, 10): 5, (10, 1): 5, (2, 2): 7, (4, 5): 8, (5, 4): 8, (4, 8): 8, (8, 4): 8, (4, 9): 8, (9, 4): 8, (4, 10): 8, (10, 4): 8, (6, 5): 8, (5, 6): 8, (6, 8): 8, (8, 6): 8, (6, 9): 8, (9, 6): 8, (6, 10): 8, (10, 6): 8, (7, 5): 8, (5, 7): 8, (7, 8): 8, (8, 7): 8, (7, 9): 8, (9, 7): 8, (7, 10): 8, (10, 7): 8, (3, 3): 8, (3, 4): 8, (4, 3): 8, (3, 6): 8, (6, 3): 8, (3, 7): 8, (7, 3): 8, (3, 5): 8, (5, 3): 8, (3, 8): 8, (8, 3): 8, (3, 9): 8, (9, 3): 8, (3, 10): 8, (10, 3): 8, (6, 7): 13, (7, 6): 13, (4, 4): 13, (4, 6): 13, (6, 4): 13, (4, 7): 13, (7, 4): 13, (6, 6): 14, (7, 7): 15, (8, 9): 18, (9, 8): 18, (8, 10): 18, (10, 8): 18, (9, 10): 18, (10, 9): 18, (5, 5): 18, (5, 8): 18, (8, 5): 18, (5, 9): 18, (9, 5): 18, (5, 10): 18, (10, 5): 18, (8, 8): 21, (9, 9): 20, (10, 10): 29})\n"
     ]
    }
   ],
   "source": [
    "common_parent_hmap = defaultdict()\n",
    "\n",
    "def fill_common_parent_hmap(cur):\n",
    "    # subtree = subtree_hmap[cur]\n",
    "    subtrees = []\n",
    "    for child in children_hmap[cur]:\n",
    "        subtrees.append(subtree_hmap[child])\n",
    "    for subtree1 in subtrees:\n",
    "        for subtree2 in subtrees:\n",
    "            if subtree1 != subtree2:\n",
    "                for el1 in subtree1:\n",
    "                    for el2 in subtree2:\n",
    "                        common_parent_hmap[el1, el2] = values_hmap[cur]\n",
    "                        common_parent_hmap[el2, el1] = values_hmap[cur]\n",
    "    for el in subtree_hmap[cur]:\n",
    "        common_parent_hmap[cur, el] = values_hmap[cur]\n",
    "        common_parent_hmap[el, cur] = values_hmap[cur]\n",
    "    for child in children_hmap[cur]:\n",
    "        fill_common_parent_hmap(child)\n",
    "\n",
    "fill_common_parent_hmap(1)\n",
    "print(common_parent_hmap)"
   ],
   "metadata": {
    "collapsed": false
   }
  },
  {
   "cell_type": "code",
   "execution_count": 220,
   "outputs": [
    {
     "name": "stdout",
     "output_type": "stream",
     "text": [
      "2\n",
      "1\n",
      "2\n",
      "2\n"
     ]
    }
   ],
   "source": [
    "import numpy as np\n",
    "\n",
    "\n",
    "for patient in patients:\n",
    "    IC_LCA_sum_max = 0\n",
    "    best_k = -1\n",
    "    for k in range(len(diseases)):\n",
    "        disease = diseases[k]\n",
    "        IC_LCA_sum = 0\n",
    "        for p in patient:\n",
    "            IC_LCA_max = 0\n",
    "            for d in disease:\n",
    "                IC_LCA = common_parent_hmap[p, d]\n",
    "                IC_LCA_max = max(IC_LCA_max, IC_LCA)\n",
    "            IC_LCA_sum += IC_LCA_max\n",
    "        if IC_LCA_sum > IC_LCA_sum_max:\n",
    "            IC_LCA_sum_max = IC_LCA_sum\n",
    "            best_k = k\n",
    "        # IC_LCA_sum_max = max(IC_LCA_sum, IC_LCA_sum_max)\n",
    "    print(best_k + 1)"
   ],
   "metadata": {
    "collapsed": false
   }
  },
  {
   "cell_type": "code",
   "execution_count": null,
   "outputs": [],
   "source": [],
   "metadata": {
    "collapsed": false
   }
  }
 ],
 "metadata": {
  "kernelspec": {
   "display_name": "Python 3",
   "language": "python",
   "name": "python3"
  },
  "language_info": {
   "codemirror_mode": {
    "name": "ipython",
    "version": 2
   },
   "file_extension": ".py",
   "mimetype": "text/x-python",
   "name": "python",
   "nbconvert_exporter": "python",
   "pygments_lexer": "ipython2",
   "version": "2.7.6"
  }
 },
 "nbformat": 4,
 "nbformat_minor": 0
}
