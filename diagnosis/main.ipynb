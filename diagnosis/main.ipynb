{
 "cells": [
  {
   "cell_type": "code",
   "execution_count": 122,
   "metadata": {
    "collapsed": true
   },
   "outputs": [],
   "source": [
    "def read_input(file_str: str):\n",
    "    with open(file_str) as f:\n",
    "\n",
    "        lines = f.readlines()\n",
    "        lines.reverse()\n",
    "\n",
    "        n = int(lines.pop().split()[0])\n",
    "        parents = [int(s) for s in lines.pop().split(' ')]\n",
    "        values = [int(s) for s in lines.pop().split(' ')]\n",
    "\n",
    "        diseases = []\n",
    "        num_of_diseases = int(lines.pop().split()[0])\n",
    "        for i in range(num_of_diseases):\n",
    "            dis = lines.pop()\n",
    "            diseases.append([int(s) for s in dis.split(' ')])\n",
    "\n",
    "        patients = []\n",
    "        num_of_patients = int(lines.pop().split()[0])\n",
    "        for i in range(num_of_patients):\n",
    "            dis = lines.pop()\n",
    "            patients.append([int(s) for s in dis.split(' ')])\n",
    "\n",
    "        # return [n, relationships, values, diseases, patients]\n",
    "        return {\n",
    "            \"n\": n,\n",
    "            \"parents\": parents,\n",
    "            \"values\": values,\n",
    "            \"diseases\": diseases,\n",
    "            \"patients\": patients,\n",
    "        }"
   ]
  },
  {
   "cell_type": "code",
   "execution_count": 123,
   "outputs": [
    {
     "name": "stdout",
     "output_type": "stream",
     "text": [
      "10\n",
      "[1, 1, 3, 3, 4, 4, 5, 5, 5]\n",
      "[5, 7, 8, 13, 18, 14, 15, 21, 20, 29]\n",
      "[[2, 4, 2], [1, 10]]\n",
      "[[3, 5, 9, 8], [1, 6], [2, 7, 10], [1, 10]]\n"
     ]
    }
   ],
   "source": [
    "data = read_input('input.txt')\n",
    "n = data[\"n\"]\n",
    "parents = data[\"parents\"]\n",
    "values = data[\"values\"]\n",
    "diseases = data[\"diseases\"]\n",
    "patients = data[\"patients\"]\n",
    "print(n)\n",
    "print(parents)\n",
    "print(values)\n",
    "print(diseases)\n",
    "print(patients)"
   ],
   "metadata": {
    "collapsed": false
   }
  },
  {
   "cell_type": "code",
   "execution_count": 105,
   "outputs": [],
   "source": [
    "class Node(object):\n",
    "    def __init__(self, index, value):\n",
    "        self.index = index\n",
    "        self.value = value\n",
    "        self.children = []\n",
    "        self.parent = None\n",
    "        self.subtree = []\n",
    "\n",
    "    def add_child(self, index):\n",
    "        self.children.append(index)\n",
    "\n",
    "    def add_parent(self, index):\n",
    "        self.parent = index\n",
    "\n",
    "    def init_subtree(self, subtree_list: list):\n",
    "        self.subtree = subtree_list"
   ],
   "metadata": {
    "collapsed": false
   }
  },
  {
   "cell_type": "code",
   "execution_count": null,
   "outputs": [],
   "source": [
    "for i in range(n):\n",
    "    node = Node(i, values[i])\n",
    "    if i != 0:\n",
    "        node.add_parent(parents[i])"
   ],
   "metadata": {
    "collapsed": false
   }
  },
  {
   "cell_type": "code",
   "execution_count": 152,
   "outputs": [
    {
     "name": "stdout",
     "output_type": "stream",
     "text": [
      "defaultdict(<class 'int'>, {1: 5, 3: 1, 4: 3, 5: 3, 6: 4, 7: 4, 8: 5, 9: 5, 10: 5})\n",
      "defaultdict(<class 'list'>, {5: [1, 8, 9, 10], 1: [3], 3: [4, 5], 4: [6, 7]})\n",
      "defaultdict(<class 'int'>, {0: 5, 2: 8, 3: 13, 4: 18, 5: 14, 6: 15, 7: 21, 8: 20, 9: 29})\n",
      "defaultdict(<class 'bool'>, {0: False, 2: False, 3: False, 4: False, 5: False, 6: False, 7: False, 8: False, 9: False})\n"
     ]
    }
   ],
   "source": [
    "from collections import defaultdict\n",
    "\n",
    "parents_hmap = defaultdict(int)  # child: parent\n",
    "children_hmap = defaultdict(list)  # parent: [children]\n",
    "values_hmap = defaultdict(int)  # node: value\n",
    "is_checked_hmap = defaultdict(bool)  # node: value\n",
    "subtrree_hmap = defaultdict(list)  # parent: [all children in subtree]\n",
    "\n",
    "for i in range(n):\n",
    "    if i != 1:\n",
    "        child_index = i + 1\n",
    "        parent_index = parents[i - 1]\n",
    "\n",
    "        parents_hmap[child_index] = parent_index\n",
    "        children_hmap[parent_index].append(child_index)\n",
    "        values_hmap[i] = values[i]\n",
    "        is_checked_hmap[i] = False\n",
    "\n",
    "# values_hmap[n - 1] = values[n - 1]\n",
    "\n",
    "print(parents_hmap)\n",
    "print(children_hmap)\n",
    "print(values_hmap)\n",
    "print(is_checked_hmap)"
   ],
   "metadata": {
    "collapsed": false
   }
  },
  {
   "cell_type": "code",
   "execution_count": null,
   "outputs": [],
   "source": [
    "def is_not_checked(index):\n",
    "    return True\n",
    "\n",
    "def get_children(parent):\n",
    "    return children_hmap[parent]"
   ],
   "metadata": {
    "collapsed": false
   }
  },
  {
   "cell_type": "code",
   "execution_count": 153,
   "outputs": [
    {
     "ename": "SyntaxError",
     "evalue": "incomplete input (732026634.py, line 8)",
     "output_type": "error",
     "traceback": [
      "\u001B[0;36m  Cell \u001B[0;32mIn[153], line 8\u001B[0;36m\u001B[0m\n\u001B[0;31m    if len(get_children(child)) == 0:\u001B[0m\n\u001B[0m                                     ^\u001B[0m\n\u001B[0;31mSyntaxError\u001B[0m\u001B[0;31m:\u001B[0m incomplete input\n"
     ]
    }
   ],
   "source": [
    "stack = []\n",
    "stack.append(0) # выбираем любой из незачеканных индексов\n",
    "while True:  # пока есть незачеканные индексы\n",
    "    index = stack.pop()  # выбираем любой из незачеканных индексов\n",
    "    children = get_children(index)\n",
    "    for child in children:\n",
    "        if is_not_checked(child):\n",
    "            children_of_children = get_children(child)\n",
    "            if len(children_of_children) == 0:\n",
    "                subtrree_hmap[index].append(*children_of_children)\n",
    "                is_checked_hmap[child] = True"
   ],
   "metadata": {
    "collapsed": false
   }
  },
  {
   "cell_type": "code",
   "execution_count": null,
   "outputs": [],
   "source": [],
   "metadata": {
    "collapsed": false
   }
  }
 ],
 "metadata": {
  "kernelspec": {
   "display_name": "Python 3",
   "language": "python",
   "name": "python3"
  },
  "language_info": {
   "codemirror_mode": {
    "name": "ipython",
    "version": 2
   },
   "file_extension": ".py",
   "mimetype": "text/x-python",
   "name": "python",
   "nbconvert_exporter": "python",
   "pygments_lexer": "ipython2",
   "version": "2.7.6"
  }
 },
 "nbformat": 4,
 "nbformat_minor": 0
}
