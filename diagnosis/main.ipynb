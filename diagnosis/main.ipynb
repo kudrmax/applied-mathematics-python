{
 "cells": [
  {
   "cell_type": "code",
   "execution_count": 1,
   "outputs": [],
   "source": [
    "import numba as nb\n",
    "from numba import prange\n",
    "import numpy as np\n",
    "from numba.typed import List"
   ],
   "metadata": {
    "collapsed": false
   }
  },
  {
   "cell_type": "code",
   "execution_count": 2,
   "metadata": {
    "collapsed": true
   },
   "outputs": [
    {
     "name": "stdout",
     "output_type": "stream",
     "text": [
      "19830\n"
     ]
    }
   ],
   "source": [
    "# считываение из файла\n",
    "def read_input(file_str: str):\n",
    "    with open(file_str) as f:\n",
    "\n",
    "        lines = f.readlines()\n",
    "        lines.reverse()\n",
    "\n",
    "        n = int(lines.pop().split()[0])\n",
    "        parents = [int(s) for s in lines.pop().split(' ')]\n",
    "        values = [int(s) for s in lines.pop().split(' ')]\n",
    "\n",
    "        diseases = []\n",
    "        num_of_diseases = int(lines.pop().split()[0])\n",
    "        for i in range(num_of_diseases):\n",
    "            dis = lines.pop()\n",
    "            diseases.append([int(s) for s in dis.split(' ')])\n",
    "\n",
    "        patients = []\n",
    "        num_of_patients = int(lines.pop().split()[0])\n",
    "        for i in range(num_of_patients):\n",
    "            dis = lines.pop()\n",
    "            patients.append([int(s) for s in dis.split(' ')])\n",
    "\n",
    "        # return [n, relationships, values, diseases, patients]\n",
    "        return {\n",
    "            \"n\": n,\n",
    "            \"parents\": parents,\n",
    "            \"values\": values,\n",
    "            \"diseases\": diseases,\n",
    "            \"patients\": patients,\n",
    "        }\n",
    "\n",
    "\n",
    "data = read_input('./tests/test1')\n",
    "\n",
    "n = data[\"n\"]\n",
    "parents = data[\"parents\"]\n",
    "values = data[\"values\"]\n",
    "\n",
    "diseases = data[\"diseases\"]\n",
    "diseases_numba = List(List(x) for x in diseases)\n",
    "\n",
    "patients = data[\"patients\"]\n",
    "patients_numba = List(List(x) for x in patients)\n",
    "\n",
    "print(n)"
   ]
  },
  {
   "cell_type": "code",
   "execution_count": 3,
   "outputs": [],
   "source": [
    "from collections import defaultdict\n",
    "\n",
    "parents_hmap = np.empty(n + 1, dtype=int)  # child: parent\n",
    "children_hmap = [[] for i in range(n + 1)]  # parent: [children]\n",
    "values_hmap = np.empty(n + 1, dtype=int)  # node: value\n",
    "is_checked_hmap = np.empty(n + 1)  # node: value\n",
    "\n",
    "values_hmap[1] = values[0]\n",
    "is_checked_hmap[1] = False\n",
    "for i in range(len(parents)):\n",
    "    child_index = i + 2\n",
    "    parent_index = parents[i]\n",
    "\n",
    "    parents_hmap[child_index] = parent_index\n",
    "    children_hmap[parent_index].append(child_index)\n",
    "    values_hmap[child_index] = values[i + 1]\n",
    "\n",
    "for i in range(len(children_hmap)):\n",
    "    children_hmap[i] = np.asarray(children_hmap[i])"
   ],
   "metadata": {
    "collapsed": false
   }
  },
  {
   "cell_type": "code",
   "execution_count": 4,
   "outputs": [
    {
     "name": "stdout",
     "output_type": "stream",
     "text": [
      "[0 0 1 ... 2 3 4]\n"
     ]
    }
   ],
   "source": [
    "depth_hmap = np.empty(n + 1, dtype=int)\n",
    "\n",
    "def fill_depth_hmap(cur, index):\n",
    "    depth_hmap[cur] = index\n",
    "    for child in children_hmap[cur]:\n",
    "        fill_depth_hmap(child, index + 1)\n",
    "\n",
    "fill_depth_hmap(1, 0)\n",
    "print(depth_hmap)"
   ],
   "metadata": {
    "collapsed": false
   }
  },
  {
   "cell_type": "code",
   "execution_count": 5,
   "outputs": [],
   "source": [
    "@nb.njit()\n",
    "def find_common_parent(i1, i2):\n",
    "    i1 = int(i1)\n",
    "    i2 = int(i2)\n",
    "    depth1 = depth_hmap[i1]\n",
    "    depth2 = depth_hmap[i2]\n",
    "    if depth1 < depth2:\n",
    "        depth1, depth2 = depth2, depth1\n",
    "        i1, i2 = i2, i1\n",
    "\n",
    "    while depth1 > depth2:\n",
    "        depth1 -= 1\n",
    "        i1 = parents_hmap[i1]\n",
    "\n",
    "    while i1 != i2:\n",
    "        depth1 -= 1\n",
    "        i1 = parents_hmap[i1]\n",
    "        depth2 -= 1\n",
    "        i2 = parents_hmap[i2]\n",
    "    return values_hmap[i1]"
   ],
   "metadata": {
    "collapsed": false
   }
  },
  {
   "cell_type": "code",
   "execution_count": 14,
   "outputs": [
    {
     "name": "stdout",
     "output_type": "stream",
     "text": [
      "[3342. 3546. 2219. ... 3254. 1793. 4758.]\n"
     ]
    }
   ],
   "source": [
    "@nb.njit(parallel=True)\n",
    "def foo(patients_numba, diseases_numba):\n",
    "    # result = []\n",
    "    result = np.zeros(len(patients_numba))\n",
    "    for i in prange(len(patients_numba)):\n",
    "        patient = patients_numba[i]\n",
    "        IC_LCA_sum_max = 0\n",
    "        best_k = -1\n",
    "        for k in range(len(diseases_numba)):\n",
    "            disease = diseases_numba[k]\n",
    "            IC_LCA_sum = 0\n",
    "            for p in patient:\n",
    "                IC_LCA_max = 0\n",
    "                for d in disease:\n",
    "                    IC_LCA = find_common_parent(p, d)\n",
    "                    IC_LCA_max = max(IC_LCA_max, IC_LCA)\n",
    "                IC_LCA_sum += IC_LCA_max\n",
    "            if IC_LCA_sum > IC_LCA_sum_max:\n",
    "                IC_LCA_sum_max = IC_LCA_sum\n",
    "                best_k = k\n",
    "        # result[i] = best_k + 1\n",
    "        # print(i, best_k + 1)\n",
    "        result[i] = best_k + 1\n",
    "        # result.append(best_k + 1)\n",
    "    return result\n",
    "\n",
    "res = foo(patients_numba, diseases_numba)\n",
    "print(res)"
   ],
   "metadata": {
    "collapsed": false
   }
  },
  {
   "cell_type": "code",
   "execution_count": 18,
   "outputs": [],
   "source": [
    "with open('output/test1.txt', 'w') as f:\n",
    "    for n in res:\n",
    "        f.write(f\"{int(n)}\\n\")"
   ],
   "metadata": {
    "collapsed": false
   }
  },
  {
   "cell_type": "code",
   "execution_count": 227,
   "outputs": [
    {
     "data": {
      "text/plain": "[1,\n 2,\n 3,\n 10087,\n 12930,\n 14784,\n 4,\n 7970,\n 8600,\n 5,\n 4200,\n 5434,\n 6,\n 2931,\n 8471,\n 7,\n 3843,\n 5274,\n 8,\n 3923,\n 5888,\n 9,\n 615,\n 10,\n 9643,\n 11,\n 609,\n 16540,\n 7752,\n 10636,\n 17164,\n 19410,\n 19699,\n 15435,\n 12,\n 1181,\n 5300,\n 13,\n 1911,\n 5306,\n 14,\n 4198,\n 17939,\n 15,\n 16,\n 3709,\n 12307,\n 15009,\n 19033,\n 4057,\n 17123,\n 17,\n 4588,\n 5774,\n 18,\n 4803,\n 4804,\n 10169,\n 16801,\n 19300,\n 19,\n 1172,\n 10614,\n 13721,\n 17337,\n 20,\n 6862,\n 7432,\n 10341,\n 13008,\n 21,\n 22,\n 4345,\n 14329,\n 15130,\n 16264,\n 19044,\n 4627,\n 10022,\n 12571,\n 16838,\n 23,\n 1913,\n 6226,\n 12766,\n 17045,\n 24,\n 484,\n 5135,\n 25,\n 85,\n 26,\n 7564,\n 27,\n 28,\n 2157,\n 2837,\n 29,\n 5667,\n 30,\n 31,\n 4620,\n 9133,\n 32,\n 770,\n 6867,\n 33,\n 1617,\n 17841,\n 34,\n 1450,\n 35,\n 36,\n 37,\n 5965,\n 9612,\n 15411,\n 38,\n 7860,\n 11592,\n 17022,\n 13093,\n 14927,\n 17218,\n 14373,\n 39,\n 6497,\n 9489,\n 40,\n 41,\n 4185,\n 17907,\n 42,\n 8573,\n 43,\n 856,\n 44,\n 45,\n 5474,\n 6699,\n 46,\n 3518,\n 13153,\n 15696,\n 15889,\n 47,\n 1262,\n 2442,\n 14695,\n 48,\n 2731,\n 10697,\n 49,\n 3908,\n 6704,\n 50,\n 564,\n 8336,\n 51,\n 52,\n 12565,\n 16429,\n 53,\n 11916,\n 16718,\n 17605,\n 54,\n 390,\n 7121,\n 55,\n 9176,\n 56,\n 10418,\n 16538,\n 57,\n 5521,\n 5742,\n 16074,\n 58,\n 489,\n 18076,\n 2528,\n 10834,\n 15354,\n 59,\n 10111,\n 16100,\n 18936,\n 60,\n 5110,\n 61,\n 5194,\n 62,\n 13926,\n 15678,\n 17538,\n 63,\n 5684,\n 64,\n 7874,\n 65,\n 6872,\n 15828,\n 16909,\n 9009,\n 66,\n 10695,\n 11052,\n 19802,\n 67,\n 666,\n 8553,\n 68,\n 3587,\n 10793,\n 14245,\n 69,\n 13806,\n 19166,\n 17382,\n 70,\n 12212,\n 14419,\n 71,\n 1610,\n 8009,\n 72,\n 1180,\n 12882,\n 15819,\n 16457,\n 7733,\n 10432,\n 11934,\n 13981,\n 73,\n 2143,\n 2772,\n 74,\n 2048,\n 2671,\n 75,\n 8975,\n 14239,\n 9415,\n 10996,\n 14901,\n 76,\n 141,\n 77,\n 1395,\n 3777,\n 10854,\n 78,\n 4935,\n 9958,\n 13691,\n 16947,\n 19046,\n 79,\n 2560,\n 80,\n 1147,\n 4870,\n 12329,\n 13256,\n 17287,\n 17718,\n 81,\n 10892,\n 17455,\n 82,\n 3906,\n 9022,\n 83,\n 2256,\n 84,\n 266,\n 17614,\n 18250,\n 19590,\n 10109,\n 15748,\n 86,\n 6958,\n 12051,\n 19349,\n 9339,\n 12524,\n 87,\n 8775,\n 88,\n 6786,\n 8784,\n 11011,\n 13024,\n 15654,\n 89,\n 1528,\n 13429,\n 4835,\n 17426,\n 90,\n 2438,\n 16922,\n 2797,\n 14457,\n 91,\n 10239,\n 16487,\n 13233,\n 15020,\n 16245,\n 16682,\n 92,\n 9290,\n 93,\n 1131,\n 6918,\n 94,\n 95,\n 96,\n 2904,\n 4152,\n 97,\n 9266,\n 9294,\n 16879,\n 98,\n 748,\n 18308,\n 9883,\n 17233,\n 99,\n 9372,\n 100,\n 5247,\n 12120,\n 15424,\n 8322,\n 101,\n 318,\n 4208,\n 15447,\n 18724,\n 102,\n 3576,\n 12012,\n 15197,\n 12336,\n 103,\n 11988,\n 13773,\n 14287,\n 104,\n 641,\n 7042,\n 105,\n 16166,\n 16824,\n 19333,\n 106,\n 7454,\n 107,\n 2804,\n 4484,\n 17852,\n 18560,\n 108,\n 8423,\n 10919,\n 15827,\n 9467,\n 11262,\n 18002,\n 109,\n 4709,\n 15258,\n 15567,\n 16342,\n 8957,\n 11240,\n 11559,\n 110,\n 1010,\n 14175,\n 14620,\n 14575,\n 1060,\n 111,\n 112,\n 2269,\n 10213,\n 11228,\n 17561,\n 113,\n 611,\n 4644,\n 114,\n 4298,\n 18750,\n 9595,\n 11740,\n 17601,\n 115,\n 2799,\n 11844,\n 13003,\n 18995,\n 116,\n 2495,\n 14136,\n 14746,\n 6300,\n 117,\n 17461,\n 18036,\n 118,\n 2369,\n 119,\n 446,\n 15628,\n 4309,\n 12182,\n 120,\n 121,\n 2873,\n 12828,\n 13199,\n 14352,\n 17168,\n 19441,\n 16002,\n 17914,\n 18460,\n 122,\n 2262,\n 6763,\n 123,\n 1381,\n 14988,\n 124,\n 3652,\n 16146,\n 4757,\n 10232,\n 12913,\n 16315,\n 14991,\n 18482,\n 125,\n 13737,\n 14955,\n 15160,\n 15248,\n 126,\n 1631,\n 7039,\n 127,\n 2176,\n 12789,\n 14573,\n 19156,\n 4799,\n 14956,\n 128,\n 7178,\n 15671,\n 8320,\n 129,\n 1565,\n 6060,\n 11468,\n 12323,\n 16733,\n 130,\n 1183,\n 131,\n 678,\n 6732,\n 132,\n 4766,\n 9363,\n 133,\n 1069,\n 2444,\n 14755,\n 16507,\n 134,\n 14433,\n 135,\n 16180,\n 18829,\n 136,\n 3834,\n 8609,\n 137,\n 367,\n 9003,\n 138,\n 139,\n 2578,\n 140,\n 9563,\n 142,\n 6421,\n 18658,\n 19570,\n 143,\n 3076,\n 3312,\n 11780,\n 16789,\n 17878,\n 144,\n 941,\n 14196,\n 18193,\n 1580,\n 15519,\n 145,\n 4356,\n 15486,\n 146,\n 3364,\n 19088,\n 147,\n 11312,\n 13707,\n 148,\n 3104,\n 13658,\n 18424,\n 18789,\n 4668,\n 149,\n 6100,\n 8394,\n 16480,\n 16542,\n 17558,\n 17116,\n 150,\n 1572,\n 4596,\n 151,\n 2278,\n 152,\n 12474,\n 18605,\n 14258,\n 153,\n 154,\n 3228,\n 12341,\n 13061,\n 14305,\n 14635,\n 18153,\n 18951,\n 8458,\n 15203,\n 155,\n 4204,\n 4936,\n 156,\n 3818,\n 17086,\n 17300,\n 17835,\n 11730,\n 15586,\n 16755,\n 16406,\n 157,\n 2527,\n 158,\n 159,\n 160,\n 2084,\n 15112,\n 18335,\n 6842,\n 11536,\n 161,\n 1228,\n 9941,\n 19091,\n 7837,\n 162,\n 163,\n 5751,\n 6571,\n 164,\n 1633,\n 8567,\n 14869,\n 17615,\n 165,\n 7395,\n 10011,\n 13192,\n 8817,\n 15400,\n 16864,\n 14736,\n 16964,\n 18415,\n 166,\n 3859,\n 10033,\n 10817,\n 13955,\n 16041,\n 10307,\n 19373,\n 18179,\n 167,\n 3089,\n 8920,\n 18165,\n 168,\n 2014,\n 3574,\n 169,\n 3048,\n 18621,\n 4169,\n 11284,\n 19678,\n 170,\n 2971,\n 8496,\n 171,\n 1046,\n 10046,\n 16592,\n 172,\n 173,\n 174,\n 4093,\n 13229,\n 19792,\n 175,\n 2996,\n 19157,\n 10946,\n 176,\n 4146,\n 7900,\n 177,\n 2460,\n 2521,\n 178,\n 6254,\n 17015,\n 13133,\n 13576,\n 13466,\n 17318,\n 16376,\n 179,\n 3954,\n 11109,\n 11541,\n 14767,\n 17290,\n 19756,\n 7871,\n 10308,\n 10329,\n 17856,\n 14110,\n 15104,\n 14875,\n 19207,\n 180,\n 2685,\n 11796,\n 18045,\n 6597,\n 15870,\n 12946,\n 181,\n 1956,\n 12193,\n 18053,\n 182,\n 12469,\n 16724,\n 17436,\n 18945,\n 183,\n 3183,\n 184,\n 7068,\n 9627,\n 185,\n 6329,\n 10127,\n 12492,\n 18209,\n 7114,\n 17313,\n 186,\n 3974,\n 16046,\n 12694,\n 18982,\n 14681,\n 18436,\n 187,\n 1327,\n 5884,\n 11095,\n 12516,\n 17284,\n 11889,\n 188,\n 6757,\n 189,\n 7246,\n 8272,\n 190,\n 1960,\n 10868,\n 4350,\n 12104,\n 191,\n 2712,\n 14550,\n 14868,\n 16683,\n 4489,\n 12869,\n 12157,\n 14324,\n 192,\n 4786,\n 13364,\n 13723,\n 9461,\n 13761,\n 17312,\n 193,\n 4517,\n 9950,\n 15563,\n 19353,\n 13976,\n 14781,\n 16490,\n 194,\n 1158,\n 9142,\n 195,\n 966,\n 16927,\n 18974,\n 196,\n 9466,\n 18058,\n 197,\n 11719,\n 12726,\n 18869,\n 198,\n 2940,\n 16213,\n 18611,\n 16520,\n 199,\n 2631,\n 200,\n 2916,\n 6559,\n 201,\n 982,\n 202,\n 4430,\n 203,\n 2608,\n 18772,\n 7433,\n 204,\n 8474,\n 13925,\n 205,\n 5863,\n 206,\n 7917,\n 207,\n 10526,\n 208,\n 271,\n 4741,\n 9893,\n 19430,\n 17489,\n 209,\n 1405,\n 8230,\n 210,\n 2511,\n 13283,\n 10742,\n 11308,\n 211,\n 11379,\n 212,\n 1923,\n 8257,\n 213,\n 3217,\n 8376,\n 214,\n 4745,\n 11186,\n 215,\n 2821,\n 3876,\n 216,\n 5894,\n 12522,\n 13497,\n 15565,\n 8814,\n 217,\n 1058,\n 10714,\n 7892,\n 15507,\n 16668,\n 218,\n 766,\n 8698,\n 219,\n 220,\n 4652,\n 6966,\n 221,\n 2648,\n 13238,\n 15694,\n 16952,\n 15783,\n 17477,\n 222,\n 3021,\n 6677,\n 223,\n 1339,\n 8219,\n 224,\n 3273,\n 8148,\n 10107,\n 17231,\n 225,\n 1253,\n 226,\n 1263,\n 1690,\n 11918,\n 19623,\n 227,\n 2407,\n 17363,\n 7885,\n 17467,\n 19167,\n 228,\n 747,\n 15208,\n 17225,\n 11273,\n 229,\n 732,\n 4825,\n 10763,\n 17976,\n 14259,\n 230,\n 11415,\n 18751,\n 11447,\n 12376,\n 231,\n 3190,\n 232,\n 1701,\n 6129,\n 16863,\n 233,\n 8022,\n 15730,\n 17465,\n 18031,\n 234,\n 5289,\n 235,\n 10332,\n 10844,\n 18030,\n 236,\n 3148,\n 7783,\n 11607,\n 237,\n 3257,\n 3555,\n 13557,\n 12166,\n 238,\n 5262,\n 8070,\n 239,\n 1950,\n 3426,\n 240,\n 2139,\n 8345,\n 13535,\n 241,\n 11553,\n 14088,\n 15091,\n 242,\n 7171,\n 243,\n 4264,\n 12356,\n 13223,\n 244,\n 3776,\n 245,\n 577,\n 12555,\n 3498,\n 16715,\n 17027,\n 246,\n 3617,\n 247,\n 2053,\n 248,\n 6251,\n 9544,\n 249,\n 4116,\n 9331,\n 10660,\n 10489,\n 14309,\n 15438,\n 250,\n 12654,\n 13787,\n 13175,\n 13305,\n 14704,\n 17196,\n 16659,\n 19585,\n 19709,\n 251,\n 2687,\n 252,\n 2045,\n 4630,\n 253,\n 1355,\n 15789,\n 9450,\n 13795,\n 254,\n 2115,\n 13460,\n 18779,\n 6895,\n 18597,\n 12117,\n 17871,\n 255,\n 8312,\n 256,\n 2102,\n 10970,\n 6309,\n 11371,\n 12853,\n 17466,\n 19195,\n 14703,\n 10619,\n 257,\n 1446,\n 17880,\n 258,\n 8707,\n ...]"
     },
     "execution_count": 227,
     "metadata": {},
     "output_type": "execute_result"
    }
   ],
   "source": [
    "subtree_hmap = defaultdict(list)  # parent: [all children in subtree]\n",
    "\n",
    "\n",
    "def fill_subtrees(cur):\n",
    "    children = children_hmap[cur]\n",
    "    subtree_hmap[cur].append(cur)\n",
    "    if len(children) == 0:\n",
    "        return [cur]\n",
    "\n",
    "    for child in children:\n",
    "        for el in fill_subtrees(child):\n",
    "            subtree_hmap[cur].append(el)\n",
    "    return subtree_hmap[cur]\n",
    "\n",
    "\n",
    "fill_subtrees(1)\n",
    "# print(subtree_hmap)"
   ],
   "metadata": {
    "collapsed": false
   }
  },
  {
   "cell_type": "code",
   "execution_count": null,
   "outputs": [],
   "source": [
    "common_parent_hmap = defaultdict()\n",
    "\n",
    "\n",
    "def fill_common_parent_hmap(cur):\n",
    "    # subtree = subtree_hmap[cur]\n",
    "    subtrees = []\n",
    "    for child in children_hmap[cur]:\n",
    "        subtrees.append(subtree_hmap[child])\n",
    "    for subtree1 in subtrees:\n",
    "        for subtree2 in subtrees:\n",
    "            if subtree1 != subtree2:\n",
    "                for el1 in subtree1:\n",
    "                    for el2 in subtree2:\n",
    "                        common_parent_hmap[el1, el2] = values_hmap[cur]\n",
    "                        common_parent_hmap[el2, el1] = values_hmap[cur]\n",
    "    for el in subtree_hmap[cur]:\n",
    "        common_parent_hmap[cur, el] = values_hmap[cur]\n",
    "        common_parent_hmap[el, cur] = values_hmap[cur]\n",
    "    for child in children_hmap[cur]:\n",
    "        fill_common_parent_hmap(child)\n",
    "\n",
    "\n",
    "fill_common_parent_hmap(1)\n",
    "# print(common_parent_hmap)"
   ],
   "metadata": {
    "collapsed": false,
    "pycharm": {
     "is_executing": true
    }
   }
  },
  {
   "cell_type": "code",
   "execution_count": 220,
   "outputs": [
    {
     "name": "stdout",
     "output_type": "stream",
     "text": [
      "2\n",
      "1\n",
      "2\n",
      "2\n"
     ]
    }
   ],
   "source": [
    "import numpy as np\n",
    "\n",
    "for patient in patients:\n",
    "    IC_LCA_sum_max = 0\n",
    "    best_k = -1\n",
    "    for k in range(len(diseases)):\n",
    "        disease = diseases[k]\n",
    "        IC_LCA_sum = 0\n",
    "        for p in patient:\n",
    "            IC_LCA_max = 0\n",
    "            for d in disease:\n",
    "                IC_LCA = common_parent_hmap[p, d]\n",
    "                IC_LCA_max = max(IC_LCA_max, IC_LCA)\n",
    "            IC_LCA_sum += IC_LCA_max\n",
    "        if IC_LCA_sum > IC_LCA_sum_max:\n",
    "            IC_LCA_sum_max = IC_LCA_sum\n",
    "            best_k = k\n",
    "        # IC_LCA_sum_max = max(IC_LCA_sum, IC_LCA_sum_max)\n",
    "    print(best_k + 1)"
   ],
   "metadata": {
    "collapsed": false
   }
  },
  {
   "cell_type": "code",
   "execution_count": null,
   "outputs": [],
   "source": [],
   "metadata": {
    "collapsed": false
   }
  }
 ],
 "metadata": {
  "kernelspec": {
   "display_name": "Python 3",
   "language": "python",
   "name": "python3"
  },
  "language_info": {
   "codemirror_mode": {
    "name": "ipython",
    "version": 2
   },
   "file_extension": ".py",
   "mimetype": "text/x-python",
   "name": "python",
   "nbconvert_exporter": "python",
   "pygments_lexer": "ipython2",
   "version": "2.7.6"
  }
 },
 "nbformat": 4,
 "nbformat_minor": 0
}
