{
 "cells": [
  {
   "cell_type": "markdown",
   "id": "b698fd64-2a72-4c31-868c-dd8ada50e242",
   "metadata": {},
   "source": [
    "# task"
   ]
  },
  {
   "cell_type": "markdown",
   "id": "fe9d5632-1d5c-428a-9b1d-5bcfdb58cb72",
   "metadata": {},
   "source": [
    "### Условие задачи\n",
    "\n",
    "**Дано:**\n",
    "- двумерная решетка молекул, расположенных в узлах кристаллической решетки, размеров $L_x \\times L_y$ с периодическими границами\n",
    "- каждая молекула обладает спином +1 или -1\n",
    "- межмолекулярное взаимодействие описывается константами $J_{ij} = 1$\n",
    "- модель Изинга\n",
    "\n",
    "\n",
    "**Требуется:**\n",
    "- согласно модели Изинга рассчитать нормированное значение средней энергии $\\frac{\\langle E \\rangle}{Lx Ly}$ для указанной решетки молекул при:\n",
    "    - размерах решетки $L_x \\in [2, 3, ..., 8]$, $L_y = 4$\n",
    "    - температурах $kT \\in [1.0, 5.0)$ с шагом $0.1$\n",
    "- сохранить массив средних энергий при помощи `np.save`\n",
    "- вывести время расчета каждой итерации по $Lx$ или по $k T$\n",
    "- отобразить цветовую карту:\n",
    "    - ось абсцисс - $L_x$,\n",
    "    - ось ординат - $k T$,\n",
    "    - цветом отобразить нормированное значение средней энергии $\\frac{\\langle E \\rangle}{Lx Ly}$,\n",
    "    - подписать оси,\n",
    "    - отобразить цветовую шкалу (`colorbar`),\n",
    "    - засечки должны соответствовать значениям $Lx, kT$.\n",
    "- к каждой функции добавить `docstring` с описанием того, что функция делает, всех параметров и возвращаемого значения    \n",
    "\n",
    "**Описание:**\n",
    "\n",
    "**Одномерный случай**\n",
    "\n",
    "Модель Изинга является моделью магнетика. Пусть этот магнетик состоит из молекул, расположенных в узлах регулярной решетки. Пусть всего таких узлов будет $N$ штук, с индексами $i=1,\\ldots, N$.\n",
    "\n",
    "Предположим, что каждая молекула может быть представлена в виде магнитной стрелки, которая всегда либо направлена вдоль некоторой заданной оси, либо в противоположном направлении. То есть каждая молекула $i$ имеет две конфигурации, которые можно описывать с помощью \"спиновой\" переменной $\\sigma_i$. Эта переменная принимает значение $+1$ (параллельно оси, спин направлен вверх) и $-1$ (антипараллельно оси, спин направлен вниз).\n",
    "\n",
    "Пусть $\\sigma = \\{\\sigma_1, \\sigma_2, \\ldots, \\sigma_N\\}$ обозначает набор значений всех $N$ спинов. Имеется $2^N$ различных наборов $\\sigma$, и каждый из них описывает некоторое состояние системы. \n",
    "\n",
    "Гамильтониан системы  состоит из двух частей: первая $E_0$ включает вклад межмолекулярных сил внутри магнетика, а вторая $E_1(\\sigma)$ вклад от взаимодействий каждого спина с внешним магнитным полем (здесь считается нулевым). \n",
    "$$H(\\sigma)=E_0(\\sigma)+E_1(\\sigma)$$\n",
    "\n",
    "В любой физической системе мы предполагаем все взаимодействия инвариантными по отношению к обращению времени, что означает инвариантность $E$ при изменении знаков всех полей и намагниченностей. Энергия должна быть четной функцией от $\\sigma$:\n",
    "$$E_0(\\sigma_1,\\ldots, \\sigma_N)=E_0(-\\sigma_1,\\ldots, -\\sigma_N)$$\n",
    "\n",
    "Энергия системы при нулевом внешнем магнитном поле равна сумме произведений **соседних** спинов на константы взаимодействия $J_{ij}$\n",
    "$$E(\\sigma) = -\\sum_{i} J_{i,i+1}\\sigma_{i}\\sigma_{i+1} $$\n",
    "\n",
    "Вероятность находиться в состоянии $\\sigma$\n",
    "$$P(\\sigma)=\\frac{e^{-\\beta E(\\sigma)}}{Z},$$\n",
    "\tгде $Z = \\sum_{\\sigma} e^{-\\beta E(\\sigma)}-$ статистическая сумма, $\\beta = \\frac{1}{k T}-$ обратная температура, $k-$ константа Больцмана.\n",
    "\t\n",
    "Средняя энергия системы \n",
    "$$\\langle E \\rangle = \\frac{1}{Z}\\sum_{\\{\\sigma \\}} E(\\sigma)e^{-\\frac{E(\\sigma)}{kT}}$$\n",
    "рассчитывается по всевозможным состояниям системы, т.е. всевозможным наборам $\\sigma$.\n",
    "\n",
    "**Двумерный случай**\n",
    "\n",
    "В случае двумерной решетки энергия системы при нулевом внешнем магнитном поле вычисляется следующим образом: \n",
    "$$E(\\sigma) = -\\sum_{i,j} J_{ij}(\\sigma_{i,j}\\sigma_{i+1,j} + \\sigma_{i,j}\\sigma_{i,j+1})$$\n",
    "\n",
    "\n",
    "**Проверка корректности результатов**\n",
    "\n",
    "Нормированное значение средней энергии при температурах $kT \\in [1.0, 5.0)$:\n",
    "\n",
    "- для $L_x=4$\n",
    "\n",
    "```\n",
    " -1.99715844 -1.99396091 -1.98856632 -1.98016965 -1.96786355 -1.95064256\n",
    " -1.9274244  -1.89711215 -1.85871667 -1.81153907 -1.75538029 -1.69071311\n",
    " -1.61874282 -1.54131149 -1.46065977 -1.37911648 -1.29880759 -1.22145424\n",
    " -1.14828469 -1.0800446  -1.01706963 -0.95938399 -0.90679838 -0.85899291\n",
    " -0.8155803  -0.77615005 -0.74029707 -0.70763857 -0.67782287 -0.65053286\n",
    " -0.62548613 -0.60243323 -0.58115501 -0.56145948 -0.5431787  -0.52616582\n",
    " -0.5102923  -0.49544555 -0.48152673 -0.46844889\n",
    "```\n",
    "\n",
    "- для $L_x=5$\n",
    "\n",
    "```\n",
    " -1.99715893 -1.99396296 -1.98857263 -1.98018387 -1.96788363 -1.95063964\n",
    " -1.92729692 -1.89661121 -1.85735639 -1.80853133 -1.74965024 -1.68103752\n",
    " -1.60399878 -1.52075577 -1.43412763 -1.3470633  -1.26219309 -1.18153361\n",
    " -1.10638872 -1.03740747 -0.97472647 -0.918132   -0.86720255 -0.82141645\n",
    " -0.78022445 -0.74309384 -0.70953215 -0.67909749 -0.65140075 -0.62610332\n",
    " -0.60291264 -0.58157686 -0.56187952 -0.54363452 -0.52668165 -0.51088271\n",
    " -0.49611811 -0.48228409 -0.46929029 -0.45705774\n",
    "```\n",
    "\n",
    "**Материалы:**\n",
    "- [Бэкстер Р., Вольский Е. П., Дайхин Л. И. Точно решаемые модели в статистической механике](https://yadi.sk/i/2oY4c0bL08pNiw)\n",
    "- [Пример хорошего `docstring`](https://github.com/numpy/numpy/blob/v1.21.0/numpy/linalg/linalg.py#L313-L395)\n",
    "- [Зиннуров Б.Д., Якименко В.Я. Магнитные свойства модели Изинга в низких размерностях (МКР)](https://miem.hse.ru/data/2018/05/24/1149431665/model_Izinga_-_Zinnurov_Yakimenko.pdf)\n",
    "\n",
    "\n",
    "**Правила оценивания:**\n",
    "\n",
    "- оценка за корректно выполненный расчет для количества молекул в цепочке $L_x$, баллов из 100:\n",
    "```\n",
    "    Lx    =   2,   3,   4,   5,    6,    7,     8\n",
    "    g(Lx) = 1.0, 1.8, 3.3, 6.4, 12.6, 24.9,  50.0\n",
    "```\n",
    "    \n",
    "- штрафы $p(i)$, баллов:\n",
    "    - не выведено время расчета - 20\n",
    "    - не выведены значения средней энергии - 20\n",
    "    - не построена карта - 20\n",
    "    - отсутствует `docstring` - 20\n",
    "    - менее значимые недоработки - 10\n",
    "\n",
    "\n",
    "- итоговая оценка за задание = $\\sum_{Lx=2}^{8}{g(Lx)} - \\sum_{i}{p(i)}$\n"
   ]
  },
  {
   "cell_type": "markdown",
   "source": [
    "В случае двумерной решетки энергия системы при нулевом внешнем магнитном поле вычисляется следующим образом:\n",
    "$$E(\\sigma) = -\\sum_{i,j} J_{ij}(\\sigma_{i,j}\\sigma_{i+1,j} + \\sigma_{i,j}\\sigma_{i,j+1})$$\n",
    "Энергия системы при нулевом внешнем магнитном поле равна сумме произведений **соседних** спинов на константы взаимодействия $J_{ij}$\n",
    "$$E(\\sigma) = -\\sum_{i} J_{i,i+1}\\sigma_{i}\\sigma_{i+1} $$"
   ],
   "metadata": {
    "collapsed": false
   }
  },
  {
   "cell_type": "code",
   "execution_count": 1,
   "outputs": [],
   "source": [
    "from itertools import product\n",
    "from math import exp\n",
    "import numpy as np\n",
    "from numba import njit, prange\n",
    "from matplotlib import pyplot as plt\n",
    "from tqdm import trange\n",
    "import time"
   ],
   "metadata": {
    "collapsed": false
   }
  },
  {
   "cell_type": "markdown",
   "source": [
    "# Два решения\n",
    "\n",
    "Ниже будет представлено два решения: быстрое и медленное\n",
    "1. В быстром двумерная задача сводится к одномерной, и решается через битовый сдвиг.\n",
    "2. В медленном для столцов используется product, а строки вычисляются как одномерная задача через битовый сдвиг\n",
    "\n",
    "Сначала я попробовал решить через \"медленное\" решение. Получилось слишком медленно. Поэтому написал \"быстрое\""
   ],
   "metadata": {
    "collapsed": false
   }
  },
  {
   "cell_type": "markdown",
   "source": [
    "# Быстрое решение"
   ],
   "metadata": {
    "collapsed": false
   }
  },
  {
   "cell_type": "code",
   "execution_count": 2,
   "outputs": [],
   "source": [
    "@njit(parallel=True)\n",
    "def calculate_energy_1d(sigma_array: np.array) -> int:\n",
    "    \"\"\"\n",
    "    Функция для вычисления энергии в одномерном массиве\n",
    "\n",
    "    Parameters\n",
    "    ----------\n",
    "    sigma_array : одномерный массив из 1 и -1\n",
    "\n",
    "    Returns\n",
    "    -------\n",
    "    Возвращает энергию для данного массива\n",
    "    \"\"\"\n",
    "    E = 0\n",
    "    for i in prange(-1, len(sigma_array) - 1):\n",
    "        E -= sigma_array[i] * sigma_array[(i + 1)]\n",
    "    return E\n",
    "\n",
    "@njit\n",
    "def calculate_energy_2d(sigma_array: np.ndarray) -> int:\n",
    "    \"\"\"\n",
    "    Функция для вычисления энергии в двумерном массиве\n",
    "\n",
    "    Parameters\n",
    "    ----------\n",
    "    sigma_array : двумерный массив из 1 и -1\n",
    "\n",
    "    Returns\n",
    "    -------\n",
    "    Возвращает энергию для данного массива\n",
    "    \"\"\"\n",
    "    E = 0\n",
    "    if len(sigma_array) == 1:\n",
    "        return calculate_energy_1d(sigma_array[0])\n",
    "    if len(sigma_array[0]) == 1:\n",
    "        transpose_array = np.empty(len(sigma_array))\n",
    "        for i in range(len(sigma_array)):\n",
    "            transpose_array[i] = sigma_array[i][0]\n",
    "        return calculate_energy_1d(transpose_array)\n",
    "    for i in range(-1, len(sigma_array) - 1):\n",
    "        for j in range(-1, len(sigma_array[0]) - 1):\n",
    "            E -= sigma_array[i][j] * sigma_array[i + 1][j] + sigma_array[i][j] * sigma_array[i][j + 1]\n",
    "    return E"
   ],
   "metadata": {
    "collapsed": false
   }
  },
  {
   "cell_type": "code",
   "execution_count": 3,
   "outputs": [],
   "source": [
    "@njit\n",
    "def generate_sigma_1d(number: int, L: int) -> np.ndarray:\n",
    "    \"\"\"\n",
    "    Функция, для создания массива с сигмами из целого числа с помощью битового сдвига\n",
    "\n",
    "    Parameters\n",
    "    ----------\n",
    "    number : целое число, по которому будет строиться вектор сигм\n",
    "    L : длина массива с сигмами\n",
    "\n",
    "    Returns\n",
    "    -------\n",
    "    Вектор\n",
    "    \"\"\"\n",
    "    res = np.empty(L, dtype=np.int8)\n",
    "    for i in range(L):\n",
    "        res[i] = (number & 1) * 2 - 1\n",
    "        number = number >> 1\n",
    "    return res"
   ],
   "metadata": {
    "collapsed": false
   }
  },
  {
   "cell_type": "code",
   "execution_count": 4,
   "outputs": [],
   "source": [
    "@njit\n",
    "def mean_energy(Lx: int, Ly: int, kT: float) -> float:\n",
    "    \"\"\"\n",
    "    Функция для вычисления средней энергии\n",
    "\n",
    "    Parameters\n",
    "    ----------\n",
    "    kT : температура\n",
    "    Lx : длина матрицы со спинами по оси x\n",
    "    Ly : длина матрицы со спинами по оси y\n",
    "\n",
    "    Returns\n",
    "    -------\n",
    "    Значение нормированной средней энергии\n",
    "    \"\"\"\n",
    "    E_mean = 0\n",
    "    Z = 0\n",
    "    for number in range(2**(Lx*Ly)): # решаем двумерную задачу через одномерную\n",
    "        sigma_array = generate_sigma_1d(number, Lx*Ly) # создаем одномерный массив из 1 и -1\n",
    "        sigma_matrix = sigma_array.reshape(Ly, Lx) # превращаем его в матрицу\n",
    "        E = calculate_energy_2d(sigma_matrix) # считаем энергию\n",
    "        e = exp(-E / kT)\n",
    "        E_mean += E * e\n",
    "        Z += e\n",
    "    E_mean /= Z\n",
    "    return E_mean / (Lx * Ly)"
   ],
   "metadata": {
    "collapsed": false
   }
  },
  {
   "cell_type": "code",
   "execution_count": 5,
   "outputs": [],
   "source": [
    "@njit(parallel=True)\n",
    "def calculate_energy_for_different_T(Lx, T_list) -> np.ndarray:\n",
    "    \"\"\"\n",
    "    Вспомогательная функция, созданная с целью возможности запараллелить часть вычисления\n",
    "\n",
    "    Parameters\n",
    "    ----------\n",
    "    Lx : длина по оси x\n",
    "    T_list : массив температур\n",
    "\n",
    "    Returns\n",
    "    -------\n",
    "    Массив энергии для фиксированной длины Lx и различных темпаретур T_list\n",
    "    \"\"\"\n",
    "    energy_array = np.empty(len(T_list), dtype=float)\n",
    "    for j in prange(len(T_list)):\n",
    "        energy_array[j] = mean_energy(Lx, Ly, T_list[j])\n",
    "    return energy_array\n",
    "\n",
    "def calculate_energy_for_different_T_and_Lx(Lx_list, Ly, T_list):\n",
    "    \"\"\"\n",
    "    Основная функция, для вычисления энергии для различной длины и различной температур. Полученные данные сохраняет в файл.\n",
    "\n",
    "    Parameters\n",
    "    ----------\n",
    "    Lx_list : массив из длин по оси x\n",
    "    Ly : длина по оси y\n",
    "    T_list : массив температур\n",
    "    \"\"\"\n",
    "    meanEnergyList = np.empty((len(Lx_list), len(T_list)), dtype=float)\n",
    "    for i in range(len(Lx_list)):\n",
    "        start = time.time()\n",
    "        meanEnergyList[i] = calculate_energy_for_different_T(Lx_list[i], T_list)\n",
    "        end = time.time()\n",
    "        print(f\"time for Lx={Lx_list[i]} for T = [{T_list[0]}, {T_list[-1]}] with step=0.1: \", end - start)\n",
    "\n",
    "    with open(f'file.npy', 'wb') as file:\n",
    "        np.save(file, np.transpose(meanEnergyList))"
   ],
   "metadata": {
    "collapsed": false
   }
  },
  {
   "cell_type": "code",
   "execution_count": null,
   "outputs": [
    {
     "name": "stdout",
     "output_type": "stream",
     "text": [
      "time for Lx=2 for T = [1.0, 4.9] with step=0.1:  1.592461109161377\n",
      "time for Lx=3 for T = [1.0, 4.9] with step=0.1:  0.0024182796478271484\n",
      "time for Lx=4 for T = [1.0, 4.9] with step=0.1:  0.036969900131225586\n",
      "time for Lx=5 for T = [1.0, 4.9] with step=0.1:  0.6850428581237793\n",
      "time for Lx=6 for T = [1.0, 4.9] with step=0.1:  11.928181886672974\n",
      "time for Lx=7 for T = [1.0, 4.9] with step=0.1:  212.6443030834198\n"
     ]
    }
   ],
   "source": [
    "# игнорируем warning'и\n",
    "import warnings\n",
    "warnings.filterwarnings('ignore')\n",
    "\n",
    "# задачем данные\n",
    "Lx_list = [*range(2, 9)]\n",
    "Ly = 4\n",
    "T_list = [n / 10.0 for n in range(1 * 10, 5 * 10)]\n",
    "\n",
    "calculate_energy_for_different_T_and_Lx(Lx_list, Ly, T_list)"
   ],
   "metadata": {
    "collapsed": false,
    "pycharm": {
     "is_executing": true
    }
   }
  },
  {
   "cell_type": "code",
   "execution_count": 79,
   "outputs": [
    {
     "name": "stdout",
     "output_type": "stream",
     "text": [
      "[-1.99715844 -1.99396091 -1.98856632 -1.98016965 -1.96786355 -1.95064256\n",
      " -1.9274244  -1.89711215 -1.85871667 -1.81153907 -1.75538029 -1.69071311\n",
      " -1.61874282 -1.54131149 -1.46065977 -1.37911648 -1.29880759 -1.22145424\n",
      " -1.14828469 -1.0800446  -1.01706963 -0.95938399 -0.90679838 -0.85899291\n",
      " -0.8155803  -0.77615005 -0.74029707 -0.70763857 -0.67782287 -0.65053286\n",
      " -0.62548613 -0.60243323 -0.58115501 -0.56145948 -0.5431787  -0.52616582\n",
      " -0.5102923  -0.49544555 -0.48152673 -0.46844889]\n",
      "\n",
      "[-1.99715893 -1.99396296 -1.98857263 -1.98018387 -1.96788363 -1.95063964\n",
      " -1.92729692 -1.89661121 -1.85735639 -1.80853133 -1.74965024 -1.68103752\n",
      " -1.60399878 -1.52075577 -1.43412763 -1.3470633  -1.26219309 -1.18153361\n",
      " -1.10638872 -1.03740747 -0.97472647 -0.918132   -0.86720255 -0.82141645\n",
      " -0.78022445 -0.74309384 -0.70953215 -0.67909749 -0.65140075 -0.62610332\n",
      " -0.60291264 -0.58157686 -0.56187952 -0.54363452 -0.52668165 -0.51088271\n",
      " -0.49611811 -0.48228409 -0.46929029 -0.45705774]\n"
     ]
    }
   ],
   "source": [
    "# сверимся с тесткейсом\n",
    "\n",
    "with open(f'file.npy', 'rb') as file:\n",
    "    meanEnergy = np.transpose(np.load(file))\n",
    "    print(meanEnergy[2])\n",
    "\n",
    "print()\n",
    "\n",
    "with open(f'file.npy', 'rb') as file:\n",
    "    meanEnergy = np.transpose(np.load(file))\n",
    "    print(meanEnergy[3])"
   ],
   "metadata": {
    "collapsed": false
   }
  },
  {
   "cell_type": "markdown",
   "source": [
    "- для $L_x=4$\n",
    "\n",
    "```\n",
    " -1.99715844 -1.99396091 -1.98856632 -1.98016965 -1.96786355 -1.95064256\n",
    " -1.9274244  -1.89711215 -1.85871667 -1.81153907 -1.75538029 -1.69071311\n",
    " -1.61874282 -1.54131149 -1.46065977 -1.37911648 -1.29880759 -1.22145424\n",
    " -1.14828469 -1.0800446  -1.01706963 -0.95938399 -0.90679838 -0.85899291\n",
    " -0.8155803  -0.77615005 -0.74029707 -0.70763857 -0.67782287 -0.65053286\n",
    " -0.62548613 -0.60243323 -0.58115501 -0.56145948 -0.5431787  -0.52616582\n",
    " -0.5102923  -0.49544555 -0.48152673 -0.46844889\n",
    "```\n",
    "\n",
    "- для $L_x=5$\n",
    "\n",
    "```\n",
    " -1.99715893 -1.99396296 -1.98857263 -1.98018387 -1.96788363 -1.95063964\n",
    " -1.92729692 -1.89661121 -1.85735639 -1.80853133 -1.74965024 -1.68103752\n",
    " -1.60399878 -1.52075577 -1.43412763 -1.3470633  -1.26219309 -1.18153361\n",
    " -1.10638872 -1.03740747 -0.97472647 -0.918132   -0.86720255 -0.82141645\n",
    " -0.78022445 -0.74309384 -0.70953215 -0.67909749 -0.65140075 -0.62610332\n",
    " -0.60291264 -0.58157686 -0.56187952 -0.54363452 -0.52668165 -0.51088271\n",
    " -0.49611811 -0.48228409 -0.46929029 -0.45705774\n",
    "```"
   ],
   "metadata": {
    "collapsed": false
   }
  },
  {
   "cell_type": "code",
   "execution_count": 72,
   "outputs": [
    {
     "name": "stdout",
     "output_type": "stream",
     "text": [
      "-1.9971589285790703\n",
      "-1.9939629623871196\n",
      "-1.9885726336374865\n",
      "-1.98018387085876\n",
      "-1.9678836321495592\n",
      "-1.9506396382016753\n",
      "-1.9272969179620312\n",
      "-1.8966112084998756\n",
      "-1.8573563905259154\n",
      "-1.808531325267356\n",
      "-1.749650243132129\n",
      "-1.6810375182687014\n",
      "-1.603998778232981\n",
      "-1.5207557683502608\n",
      "-1.4341276309838882\n",
      "-1.3470633038438107\n",
      "-1.2621930851593688\n",
      "-1.181533606312652\n",
      "-1.1063887221631274\n",
      "-1.037407470679495\n",
      "-0.9747264665884539\n",
      "-0.9181319981995071\n",
      "-0.8672025512718792\n",
      "-0.8214164511102668\n",
      "-0.7802244485293568\n",
      "-0.7430938362924938\n",
      "-0.7095321502117923\n",
      "-0.6790974918048571\n",
      "-0.6514007497222529\n",
      "-0.6261033228398365\n",
      "-0.6029126413369513\n",
      "-0.5815768632529317\n",
      "-0.561879521326664\n",
      "-0.5436345193118112\n",
      "-0.52668165351123\n",
      "-0.5108827089852852\n",
      "-0.49611811260747596\n",
      "-0.48228409353356455\n",
      "-0.4692902894387994\n",
      "-0.4570577358744563\n"
     ]
    }
   ],
   "source": [
    "Lx = 5\n",
    "for T in [n / 10.0 for n in range(1 * 10, 5 * 10)]:\n",
    "    print(mean_energy(Lx, 4, T))"
   ],
   "metadata": {
    "collapsed": false
   }
  },
  {
   "cell_type": "code",
   "execution_count": 65,
   "outputs": [
    {
     "data": {
      "text/plain": "<Figure size 640x480 with 2 Axes>",
      "image/png": "[encoded data removed]"
     },
     "metadata": {},
     "output_type": "display_data"
    }
   ],
   "source": [
    "with open(f'file.npy', 'rb') as file:\n",
    "    meanEnergy = np.load(file)\n",
    "    plt.pcolormesh(Lx_list, T_list, meanEnergy)\n",
    "    plt.xlabel('Lx')\n",
    "    plt.ylabel('kT')\n",
    "    plt.xticks(Lx_list, fontsize=6)\n",
    "    plt.yticks(T_list, fontsize=6)\n",
    "    plt.colorbar()\n",
    "    plt.show()"
   ],
   "metadata": {
    "collapsed": false
   }
  },
  {
   "cell_type": "markdown",
   "source": [
    "# Медленное решения\n",
    "\n",
    "Данное решение оказалось слишком медленным"
   ],
   "metadata": {
    "collapsed": false
   }
  },
  {
   "cell_type": "code",
   "execution_count": 38,
   "outputs": [],
   "source": [
    "@njit\n",
    "def calculate_energy_1d(sigma_array: np.ndarray) -> int:\n",
    "    \"\"\"\n",
    "    Функция для вычисления энергии в одномерном массиве\n",
    "\n",
    "    Parameters\n",
    "    ----------\n",
    "    sigma_array : одномерный массив из 1 и -1\n",
    "\n",
    "    Returns\n",
    "    -------\n",
    "    Возвращает энергию для данного массива\n",
    "    \"\"\"\n",
    "    E = 0\n",
    "    for i in range(len(sigma_array)):\n",
    "        E -= sigma_array[i] * sigma_array[(i + 1) % n]\n",
    "    return E\n",
    "\n",
    "\n",
    "def calculate_energy_2d(sigma_array: np.ndarray) -> int:\n",
    "    \"\"\"\n",
    "    Функция для вычисления энергии в двумерном массиве\n",
    "\n",
    "    Parameters\n",
    "    ----------\n",
    "    sigma_array : двумерный массив из 1 и -1\n",
    "\n",
    "    Returns\n",
    "    -------\n",
    "    Возвращает энергию для данного массива\n",
    "    \"\"\"\n",
    "    E = 0\n",
    "    if len(sigma_array) == 1:\n",
    "        return calculate_energy_1d(sigma_array[0])\n",
    "    if len(sigma_array[0]) == 1:\n",
    "        return calculate_energy_1d(np.transpose(sigma_array))\n",
    "    for i in range(-1, len(sigma_array) - 1):\n",
    "        for j in range(-1, len(sigma_array[0]) - 1):\n",
    "            E -= sigma_array[i][j] * sigma_array[i + 1][j] + sigma_array[i][j] * sigma_array[i][j + 1]\n",
    "    return E"
   ],
   "metadata": {
    "collapsed": false
   }
  },
  {
   "cell_type": "code",
   "execution_count": 39,
   "outputs": [],
   "source": [
    "@njit\n",
    "def generate_sigma_1d(number: int, L: int) -> np.ndarray:\n",
    "    \"\"\"\n",
    "    Функция, для создания массива с сигмами из целого числа с помощью битового сдвига\n",
    "\n",
    "    Parameters\n",
    "    ----------\n",
    "    number : целое число, по которому будет строиться вектор сигм\n",
    "    L : длина массива с сигмами\n",
    "\n",
    "    Returns\n",
    "    -------\n",
    "    Вектор\n",
    "    \"\"\"\n",
    "    res = np.empty(L, dtype=np.int8)\n",
    "    for i in range(L):\n",
    "        res[i] = (number & 1) * 2 - 1\n",
    "        number = number >> 1\n",
    "    return res\n",
    "\n",
    "\n",
    "# def generate_matrix(Lx: int, Ly: int) -> np.ndarray:\n",
    "#     result = []\n",
    "#     for vector_with_numbers in product([*range(0, 2 ** Lx)], repeat=Ly):\n",
    "#         matrix = np.empty((Ly, Lx), dtype=np.int8)\n",
    "#         for i in range(len(vector_with_numbers)):\n",
    "#             number = vector_with_numbers[i]\n",
    "#             matrix[i] = generate_sigma_1d(number, Lx)\n",
    "#         result.append(matrix)\n",
    "#     return result"
   ],
   "metadata": {
    "collapsed": false
   }
  },
  {
   "cell_type": "code",
   "execution_count": 40,
   "outputs": [],
   "source": [
    "def mean_energy(Lx: int, Ly: int, kT: float) -> float:\n",
    "    \"\"\"\n",
    "    Функция для вычисления средней энергии\n",
    "\n",
    "    Parameters\n",
    "    ----------\n",
    "    kT : температура\n",
    "    Lx : длина матрицы со спинами по оси x\n",
    "    Ly : длина матрицы со спинами по оси y\n",
    "\n",
    "    Returns\n",
    "    -------\n",
    "    Значение нормированной средней энергии\n",
    "    \"\"\"\n",
    "    E_mean = 0\n",
    "    Z = 0\n",
    "    # matrixes = generate_matrix(Lx, Ly)\n",
    "    result = []\n",
    "    for vector_with_numbers in product([*range(0, 2 ** Lx)], repeat=Ly):\n",
    "        matrix = np.empty((Ly, Lx), dtype=np.int8)\n",
    "        for i in range(len(vector_with_numbers)):\n",
    "            number = vector_with_numbers[i]\n",
    "            matrix[i] = generate_sigma_1d(number, Lx)\n",
    "        E = calculate_energy_2d(matrix)\n",
    "        e = exp(-E / kT)\n",
    "        E_mean += E * e\n",
    "        Z += e\n",
    "    E_mean /= Z\n",
    "    return E_mean / (Lx * Ly)"
   ],
   "metadata": {
    "collapsed": false
   }
  },
  {
   "cell_type": "code",
   "execution_count": 44,
   "outputs": [
    {
     "name": "stderr",
     "output_type": "stream",
     "text": [
      "100%|██████████| 40/40 [00:00<00:00, 285.32it/s]\n",
      "100%|██████████| 40/40 [00:02<00:00, 17.05it/s]\n",
      "100%|██████████| 40/40 [00:41<00:00,  1.05s/it]\n"
     ]
    }
   ],
   "source": [
    "Lx_list = [*range(2, 9)]\n",
    "Ly = 4\n",
    "T_list = [n / 10.0 for n in range(1 * 10, 5 * 10)]\n",
    "Lx_list = Lx_list[:3]\n",
    "T_list = T_list[:]\n",
    "\n",
    "meanEnergyList = np.empty((len(T_list), len(Lx_list)), dtype=float)\n",
    "for i in range(len(Lx_list)):\n",
    "    Lx = Lx_list[i]\n",
    "    for j in trange(len(T_list)):\n",
    "        T = T_list[j]\n",
    "        meanEnergy = mean_energy(Lx, Ly, T)\n",
    "        meanEnergyList[j][i] = meanEnergy\n",
    "\n",
    "with open(f'file.npy', 'wb') as file:\n",
    "    np.save(file, meanEnergyList)"
   ],
   "metadata": {
    "collapsed": false
   }
  },
  {
   "cell_type": "code",
   "execution_count": 54,
   "outputs": [
    {
     "data": {
      "text/plain": "<Figure size 640x480 with 2 Axes>",
      "image/png": "[encoded data removed]"
     },
     "metadata": {},
     "output_type": "display_data"
    }
   ],
   "source": [
    "with open(f'file.npy', 'rb') as file:\n",
    "    meanEnergy = np.load(file)\n",
    "    plt.pcolormesh(Lx_list, T_list, meanEnergy)\n",
    "    plt.xlabel('Lx')\n",
    "    plt.ylabel('kT')\n",
    "    plt.xticks(Lx_list, fontsize=6)\n",
    "    plt.yticks(T_list, fontsize=6)\n",
    "    plt.colorbar()\n",
    "    plt.show()"
   ],
   "metadata": {
    "collapsed": false
   }
  },
  {
   "cell_type": "code",
   "execution_count": null,
   "outputs": [],
   "source": [],
   "metadata": {
    "collapsed": false
   }
  }
 ],
 "metadata": {
  "kernelspec": {
   "display_name": "Python 3 (ipykernel)",
   "language": "python",
   "name": "python3"
  },
  "language_info": {
   "codemirror_mode": {
    "name": "ipython",
    "version": 3
   },
   "file_extension": ".py",
   "mimetype": "text/x-python",
   "name": "python",
   "nbconvert_exporter": "python",
   "pygments_lexer": "ipython3",
   "version": "3.10.5"
  }
 },
 "nbformat": 4,
 "nbformat_minor": 5
}
