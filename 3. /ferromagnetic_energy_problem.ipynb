{
 "cells": [
  {
   "cell_type": "markdown",
   "id": "16f82667",
   "metadata": {},
   "source": [
    "# Энергия ферромагнетика"
   ]
  },
  {
   "cell_type": "markdown",
   "id": "fff4f243",
   "metadata": {},
   "source": [
    "### Условие задачи\n",
    "\n",
    "**Дано:**\n",
    "- цепочка молекул, расположенных в узлах кристаллической решетки, длины $L$\n",
    "- каждая молекула обладает спином +1 или -1\n",
    "- межмолекулярное взаимодействие описывается константами $J_{ij} = 1$\n",
    "- модель Изинга\n",
    "\n",
    "\n",
    "**Требуется:**\n",
    "- согласно модели Изинга рассчитать среднюю энергию $<E>$ для указанной цепочки молекул при:\n",
    "    - длине цепочки $L \\in [2, 3, ..., 31]$\n",
    "    - температурах $kT \\in [1, 1.1, ..., 5.0]$\n",
    "- вывести время расчета каждой итерации по $L$ или по $kT$\n",
    "- отобразить цветовую карту:\n",
    "    - ось абсцисс - $L$,\n",
    "    - ось ординат - $kT$,\n",
    "    - цветом отобразить нормированное значение средней энергии $\\langle E \\rangle / L$,\n",
    "    - подписать оси,\n",
    "    - отобразить цветовую шкалу (colorbar),\n",
    "    - засечки должны соответствовать значениям $L, kT$.\n",
    "    \n",
    "\n",
    "**Описание:**\n",
    "\n",
    "Модель Изинга является моделью магнетика. Пусть этот магнетик состоит из молекул, расположенных в узлах регулярной решетки. Пусть всего таких узлов будет $N$ штук, с индексами $i=1,\\ldots, N$.\n",
    "\n",
    "Предположим, что каждая молекула может быть представлена в виде магнитной стрелки, которая всегда либо направлена вдоль некоторой заданной оси, либо в противоположном направлении. То есть каждая молекула $i$ имеет две конфигурации, которые можно описывать с помощью \"спиновой\" переменной $\\sigma_i$. Эта переменная принимает значение $+1$ (параллельно оси, спин направлен вверх) и $-1$ (антипараллельно оси, спин направлен вниз).\n",
    "\n",
    "Пусть $\\sigma = \\{\\sigma_1, \\sigma_2, \\ldots, \\sigma_N\\}$ обозначает набор значений всех $N$ спинов. Имеется $2^N$ различных наборов $\\sigma$, и каждый из них описывает некоторое состояние системы. \n",
    "\n",
    "Гамильтониан системы  состоит из двух частей: первая $E_0$ включает вклад межмолекулярных сил внутри магнетика, а вторая $E_1(\\sigma)$ вклад от взаимодействий каждого спина с внешним магнитным полем (здесь считается нулевым). \n",
    "$$H(\\sigma)=E_0(\\sigma)+E_1(\\sigma) \\label{hamiltonian}$$\n",
    "\n",
    "В любой физической системе мы предполагаем все взаимодействия инвариантными по отношению к обращению времени, что озачает инвариантность $E$ при изменении знаков всех полей и намагниченностей. Энергия должна быть четной функцией от $\\sigma$:\n",
    "$$E_0(\\sigma_1,\\ldots, \\sigma_N)=E_0(-\\sigma_1,\\ldots, -\\sigma_N)$$\n",
    "\n",
    "Энергия системы при нулевом внешнем магнитном поле равна сумме произведений соседних спинов на константы взаимодействия $J_{ij}$\n",
    "$$E(\\sigma) = -\\sum_{\\langle i,j\\rangle} J_{ij}\\sigma _i\\sigma _j $$\n",
    "\n",
    "Вероятность находиться в состоянии $\\sigma$\n",
    "$$P_{\\beta}(\\sigma)=\\frac{e^{-\\beta E(\\sigma)}}{Z_{\\beta}},$$\n",
    "\tгде $Z_{\\beta} = \\sum_{\\sigma} e^{-\\beta E(\\sigma)}-$ статистическая сумма, $\\beta = \\frac{1}{k_bT}-$ обратная температура, $k_b-$ константа Больцмана.\n",
    "\t\n",
    "Средняя энергия системы $$\\langle E \\rangle = \\frac{1}{Z}\\sum_{\\{\\sigma \\}} E(\\sigma)e^{-\\frac{E(\\sigma)}{kT}}$$\n",
    "\n",
    "**Проверка корректности результатов:**\n",
    "\n",
    "Средняя энергия для $L=4$ и температурах $kT \\in [1, 1.1, ..., 5.0]$\n",
    "\n",
    "```\n",
    "[-0.90041268 -0.86237592 -0.8217837  -0.78036351 -0.73945083 -0.69997326\n",
    " -0.66250687 -0.62735685 -0.59463601 -0.56432951 -0.5363436  -0.51054017\n",
    " -0.4867599  -0.46483724 -0.44460959 -0.42592256 -0.40863272 -0.39260867\n",
    " -0.37773122 -0.36389287 -0.35099709 -0.33895741 -0.32769644 -0.31714496\n",
    " -0.30724104 -0.29792925 -0.28915987 -0.28088833 -0.27307453 -0.26568238\n",
    " -0.25867936 -0.25203607 -0.2457259  -0.23972475 -0.23401071 -0.22856386\n",
    " -0.22336604 -0.21840066 -0.21365255 -0.20910782]\n",
    "```\n",
    "\n",
    "**Материалы:**\n",
    "- \n",
    "- [Бэкстер Р., Вольский Е. П., Дайхин Л. И. Точно решаемые модели в статистической механике](https://yadi.sk/i/2oY4c0bL08pNiw)\n",
    "\n",
    "\n",
    "\n",
    "**Правила оценивания:**\n",
    "\n",
    "- оценка за корректно выполненный расчет для количества молекул в цепочке $L$, баллов из 100:\n",
    "```\n",
    "    L   =  2-4, 5-7, 8-10, 11-13, 14-16, 17-19, 20-22, 23-25, 26-28, 29-31\n",
    "    g(L) = 1.0, 1.1,  1.2,   1.4,   1.9,   3.1,   5.7,  11.2,  23.4,  50.0\n",
    "```\n",
    "    \n",
    "- штрафы $p(i)$, баллов:\n",
    "    - не выведено время расчета - 20\n",
    "    - не выведены значения средней энергии - 20\n",
    "    - не построена карта - 20\n",
    "    - менее значимые недоработки - 10\n",
    "\n",
    "\n",
    "- итоговая оценка за задание = $\\sum_{n=1}^{10}{g(L)} - \\sum_{i}{p(i)}$\n"
   ]
  },
  {
   "cell_type": "code",
   "execution_count": 22,
   "id": "846b2b81-b9e2-4b35-948d-d9b056efa53d",
   "metadata": {},
   "outputs": [],
   "source": [
    "def energy_proto(sigma: list) -> int:\n",
    "    E = 0\n",
    "    n = len(sigma)\n",
    "    for i in range(n):\n",
    "        E -= sigma[i] * sigma[(i + 1) % n]\n",
    "    return E"
   ]
  },
  {
   "cell_type": "code",
   "execution_count": 51,
   "id": "e6ef63fd-27d1-4c26-9cfe-72223816f6cc",
   "metadata": {},
   "outputs": [],
   "source": [
    "from itertools import product\n",
    "from math import exp\n",
    "import numpy as np\n",
    "from numba import njit, prange"
   ]
  },
  {
   "cell_type": "code",
   "execution_count": 52,
   "id": "4231a02f-5a30-4bc6-81be-88eaff43fe65",
   "metadata": {},
   "outputs": [],
   "source": [
    "def mean_energy_proto(L: int, kT: float) -> float:\n",
    "    E_mean = 0\n",
    "    Z = 0\n",
    "    for sigma in product([-1, 1], repeat=L-1):\n",
    "        E = energy_proto(sigma + (1,))\n",
    "        e = exp(-E / kT)\n",
    "        E_mean += E * e\n",
    "        Z += e\n",
    "    E_mean /= Z\n",
    "    return E_mean / L"
   ]
  },
  {
   "cell_type": "code",
   "execution_count": 53,
   "id": "e924dd4b-1fab-4201-87be-d93671e343a4",
   "metadata": {},
   "outputs": [],
   "source": [
    "@njit\n",
    "def energy(sigma: np.ndarray) -> int:\n",
    "    E = 0\n",
    "    n = len(sigma)\n",
    "    for i in range(n):\n",
    "        E -= sigma[i] * sigma[(i + 1) % n]\n",
    "    return E"
   ]
  },
  {
   "cell_type": "code",
   "execution_count": 82,
   "id": "3930b54f-0722-4ab4-b5f1-5a52d3d0ba0e",
   "metadata": {},
   "outputs": [],
   "source": [
    "@njit\n",
    "def int2array(x: int, L: int) -> np.ndarray:\n",
    "    res = np.empty(L, dtype=np.int8)\n",
    "    for i in range(L):\n",
    "        res[i] = (x & 1) * 2 - 1\n",
    "        x = x >> 1\n",
    "    return res"
   ]
  },
  {
   "cell_type": "code",
   "execution_count": 83,
   "id": "7e8de4fe-8171-4263-84af-d1d741ec5ced",
   "metadata": {},
   "outputs": [],
   "source": [
    "@njit(parallel=True)\n",
    "def mean_energy(L: int, kT: float) -> float:\n",
    "    E_mean = 0\n",
    "    Z = 0\n",
    "    for sigma in prange(2**(L-1)):\n",
    "        E = energy(int2array(sigma, L))\n",
    "        e = exp(-E / kT)\n",
    "        E_mean += E * e\n",
    "        Z += e\n",
    "    E_mean /= Z\n",
    "    return E_mean / L"
   ]
  },
  {
   "cell_type": "code",
   "execution_count": 78,
   "id": "520095bd-531b-4d2e-b8b0-88f188127197",
   "metadata": {},
   "outputs": [
    {
     "name": "stdout",
     "output_type": "stream",
     "text": [
      "1.06 s ± 10.7 ms per loop (mean ± std. dev. of 7 runs, 1 loop each)\n"
     ]
    }
   ],
   "source": [
    "%%timeit\n",
    "mean_energy_proto(20, 1.1)"
   ]
  },
  {
   "cell_type": "code",
   "execution_count": 71,
   "id": "1c749f82-4f1c-42f9-a9d4-fb1f7a61c5bb",
   "metadata": {},
   "outputs": [
    {
     "name": "stdout",
     "output_type": "stream",
     "text": [
      "10.7 ms ± 638 µs per loop (mean ± std. dev. of 7 runs, 100 loops each)\n"
     ]
    }
   ],
   "source": [
    "%%timeit\n",
    "mean_energy(20, 1.1)"
   ]
  },
  {
   "cell_type": "code",
   "execution_count": 72,
   "id": "d52110b7-2214-433f-9d7f-b2a81d87809e",
   "metadata": {},
   "outputs": [
    {
     "data": {
      "text/plain": [
       "1024.0"
      ]
     },
     "execution_count": 72,
     "metadata": {},
     "output_type": "execute_result"
    }
   ],
   "source": [
    "(2**(31 - 20)) * 10e-3 * 50"
   ]
  },
  {
   "cell_type": "code",
   "execution_count": 84,
   "id": "bb3cd16d-5d00-4661-a92c-a4b5a4100e28",
   "metadata": {},
   "outputs": [
    {
     "data": {
      "text/plain": [
       "-0.8623759230161905"
      ]
     },
     "execution_count": 84,
     "metadata": {},
     "output_type": "execute_result"
    }
   ],
   "source": [
    "mean_energy_proto(4, 1.1)"
   ]
  },
  {
   "cell_type": "code",
   "execution_count": 85,
   "id": "23a98f0e-ee3f-4835-8938-7941e1afe752",
   "metadata": {},
   "outputs": [
    {
     "data": {
      "text/plain": [
       "-0.8623759230161905"
      ]
     },
     "execution_count": 85,
     "metadata": {},
     "output_type": "execute_result"
    }
   ],
   "source": [
    "mean_energy(4, 1.1)"
   ]
  },
  {
   "cell_type": "code",
   "execution_count": null,
   "id": "2c908637-ec28-4fcd-a939-bd7f1646be4a",
   "metadata": {},
   "outputs": [],
   "source": []
  }
 ],
 "metadata": {
  "kernelspec": {
   "display_name": "Python 3 (ipykernel)",
   "language": "python",
   "name": "python3"
  },
  "language_info": {
   "codemirror_mode": {
    "name": "ipython",
    "version": 3
   },
   "file_extension": ".py",
   "mimetype": "text/x-python",
   "name": "python",
   "nbconvert_exporter": "python",
   "pygments_lexer": "ipython3",
   "version": "3.10.5"
  }
 },
 "nbformat": 4,
 "nbformat_minor": 5
}
