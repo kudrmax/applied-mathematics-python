{
 "cells": [
  {
   "cell_type": "code",
   "execution_count": 29,
   "metadata": {
    "collapsed": true
   },
   "outputs": [
    {
     "data": {
      "text/plain": "<Vispy app, wrapping the PyQt5 GUI toolkit>"
     },
     "execution_count": 29,
     "metadata": {},
     "output_type": "execute_result"
    }
   ],
   "source": [
    "import numpy as np\n",
    "from vispy import app, scene\n",
    "from vispy.geometry import Rect\n",
    "# from funcs import init_boids\n",
    "# from funcs import directions\n",
    "app.use_app('pyqt5')"
   ]
  },
  {
   "cell_type": "code",
   "execution_count": 30,
   "outputs": [],
   "source": [
    "w, h = 640, 480\n",
    "N = 500\n",
    "dt = 0.1\n",
    "asp = w/h\n",
    "perseption = 1/20\n",
    "vrange = (0, 0.1)\n",
    "\n",
    "coeffs = np.array([0.05, 0.02, 4, 0.03])\n",
    "\n",
    "boids = np.zeros((N, 6), dtype=np.float64) # x, y, vx, vy, ax, ay"
   ],
   "metadata": {
    "collapsed": false
   }
  },
  {
   "cell_type": "code",
   "execution_count": 31,
   "outputs": [],
   "source": [
    "def init_boids(boids: np.ndarray, asp: float, vrange: tuple = (0., 1.)):\n",
    "    n = boids.shape[0]\n",
    "    rng = np.random.default_rng()\n",
    "    boids[:, 0] = rng.uniform(0., asp, size=n)\n",
    "    boids[:, 1] = rng.uniform(0., 1., size=n)\n",
    "    alpha = rng.uniform(0., 2 * np.pi, size=n)\n",
    "    v = rng.uniform(*vrange, size=n)\n",
    "    boids[:, 2] = v * np.cos(alpha)\n",
    "    boids[:, 3] = v * np.sin(alpha)\n",
    "\n",
    "\n",
    "def directions(boids: np.ndarray, dt: float):\n",
    "    \"\"\"\n",
    "\n",
    "    Parameters\n",
    "    ----------\n",
    "    boids\n",
    "    dt\n",
    "\n",
    "    Returns\n",
    "    -------\n",
    "    array of N x (x0, y0, x1, y1) for array painting\n",
    "    \"\"\"\n",
    "    return np.hstack((\n",
    "        boids[:, :2] - dt * boids[:, 2:4],\n",
    "        boids[:, :2]\n",
    "    ))\n"
   ],
   "metadata": {
    "collapsed": false
   }
  },
  {
   "cell_type": "code",
   "execution_count": 32,
   "outputs": [],
   "source": [
    "init_boids(boids, asp)"
   ],
   "metadata": {
    "collapsed": false
   }
  },
  {
   "cell_type": "code",
   "execution_count": 33,
   "outputs": [],
   "source": [
    "canvas = scene.SceneCanvas(show=True, size=(w, h))\n",
    "view = canvas.central_widget.add_view()\n",
    "view.camera = scene.PanZoomCamera(rect=Rect(0, 0, asp, 1))\n",
    "arrows = scene.Arrow(arrows=directions(boids, dt),\n",
    "                     arrow_color=(1, 1, 1, 1),\n",
    "                     arrow_size=5,\n",
    "                     connect='segments',\n",
    "                     parent=view.scene)"
   ],
   "metadata": {
    "collapsed": false
   }
  },
  {
   "cell_type": "code",
   "execution_count": 34,
   "outputs": [],
   "source": [
    "def update(event):\n",
    "    arrows.set_data(arrows=directions(boids, dt))\n",
    "    canvas.update()"
   ],
   "metadata": {
    "collapsed": false
   }
  },
  {
   "cell_type": "code",
   "execution_count": 35,
   "outputs": [],
   "source": [
    "if __name__ == '__main__':\n",
    "    timer = app.Timer(interval=0, start=True, connect=update)\n",
    "    canvas.measure_fps()\n",
    "    app.run()"
   ],
   "metadata": {
    "collapsed": false
   }
  },
  {
   "cell_type": "code",
   "execution_count": null,
   "outputs": [],
   "source": [],
   "metadata": {
    "collapsed": false
   }
  }
 ],
 "metadata": {
  "kernelspec": {
   "display_name": "Python 3",
   "language": "python",
   "name": "python3"
  },
  "language_info": {
   "codemirror_mode": {
    "name": "ipython",
    "version": 2
   },
   "file_extension": ".py",
   "mimetype": "text/x-python",
   "name": "python",
   "nbconvert_exporter": "python",
   "pygments_lexer": "ipython2",
   "version": "2.7.6"
  }
 },
 "nbformat": 4,
 "nbformat_minor": 0
}
